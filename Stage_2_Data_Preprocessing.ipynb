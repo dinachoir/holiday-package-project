{
  "nbformat": 4,
  "nbformat_minor": 0,
  "metadata": {
    "colab": {
      "name": "Stage 2 - Data Pre-Processing.ipynb",
      "provenance": [],
      "collapsed_sections": []
    },
    "kernelspec": {
      "name": "python3",
      "display_name": "Python 3"
    },
    "language_info": {
      "name": "python"
    }
  },
  "cells": [
    {
      "cell_type": "markdown",
      "source": [
        "# **Data Pre-Processing**"
      ],
      "metadata": {
        "id": "fqgPOQGEq1Lq"
      }
    },
    {
      "cell_type": "markdown",
      "source": [
        "**Data Description**\n",
        "\n",
        "1. CustomerID : Unique customer ID\n",
        "2. ProdTaken : Whether the product is taken (1) or not (0)\n",
        "3. Age : Age of the customer\n",
        "4. TypeofContact : How customer was contacted (Company Invited or Self Inquiry)\n",
        "5. CityTier : City tier depends on the development of a city, population, facilities, and living standards. The categories are ordered i.e. Tier 1 > Tier 2 > Tier 3\n",
        "6. DurationOfPitch : Duration of the pitch by a salesperson to the customer\n",
        "7. Occupation : Occupation of customer\n",
        "8. Gender : Gender of customer\n",
        "9. NumberOfPersonVisiting : Total number of persons planning to take the trip with the customer\n",
        "10. NumberOfFollowups : Total number of follow-ups has been done by the salesperson after the sales pitch\n",
        "11. ProductPitched : Product pitched by the salesperson\n",
        "12. PreferredPropertyStar : Preferred hotel property rating by customer\n",
        "13. MaritalStatus : Marital status of customer\n",
        "14. NumberOfTrips : Average number of trips in a year by customer\n",
        "15. Passport : The customer has a passport or not (0: No, 1: Yes)\n",
        "16. PitchSatisfactionScore : Sales pitch satisfaction score\n",
        "17. OwnCar : Whether the customers own a car or not (0: No, 1: Yes)\n",
        "18. NumberOfChildrenVisiting : Total number of children with age less than 5 planning to take the trip with the customer\n",
        "19. Designation : Designation of the customer in the current organization\n",
        "20. MonthlyIncome : Gross monthly income of the customer"
      ],
      "metadata": {
        "id": "7eR98bWA1y-l"
      }
    },
    {
      "cell_type": "code",
      "source": [
        "import pandas as pd\n",
        "import numpy as np\n",
        "import matplotlib.pyplot as plt\n",
        "import seaborn as sns"
      ],
      "metadata": {
        "id": "jsfO3sUN19FS"
      },
      "execution_count": null,
      "outputs": []
    },
    {
      "cell_type": "code",
      "source": [
        "from google.colab import drive\n",
        "drive.mount('/content/drive')"
      ],
      "metadata": {
        "colab": {
          "base_uri": "https://localhost:8080/"
        },
        "id": "qmfxcZPt2Amo",
        "outputId": "f333df2f-506c-49b3-ca1e-c23eac499ac8"
      },
      "execution_count": null,
      "outputs": [
        {
          "output_type": "stream",
          "name": "stdout",
          "text": [
            "Drive already mounted at /content/drive; to attempt to forcibly remount, call drive.mount(\"/content/drive\", force_remount=True).\n"
          ]
        }
      ]
    },
    {
      "cell_type": "code",
      "source": [
        "data = pd.read_csv('/content/drive/MyDrive/Google Colab/Travel.csv')\n",
        "data.head()"
      ],
      "metadata": {
        "id": "pyjHtg7g2BTv",
        "colab": {
          "base_uri": "https://localhost:8080/",
          "height": 322
        },
        "outputId": "95bdf1e5-7193-4d14-9d63-c9f86bde88b3"
      },
      "execution_count": null,
      "outputs": [
        {
          "output_type": "execute_result",
          "data": {
            "text/plain": [
              "   CustomerID  ProdTaken   Age    TypeofContact  CityTier  DurationOfPitch  \\\n",
              "0      200000          1  41.0     Self Enquiry         3              6.0   \n",
              "1      200001          0  49.0  Company Invited         1             14.0   \n",
              "2      200002          1  37.0     Self Enquiry         1              8.0   \n",
              "3      200003          0  33.0  Company Invited         1              9.0   \n",
              "4      200004          0   NaN     Self Enquiry         1              8.0   \n",
              "\n",
              "       Occupation  Gender  NumberOfPersonVisiting  NumberOfFollowups  \\\n",
              "0        Salaried  Female                       3                3.0   \n",
              "1        Salaried    Male                       3                4.0   \n",
              "2     Free Lancer    Male                       3                4.0   \n",
              "3        Salaried  Female                       2                3.0   \n",
              "4  Small Business    Male                       2                3.0   \n",
              "\n",
              "  ProductPitched  PreferredPropertyStar MaritalStatus  NumberOfTrips  \\\n",
              "0         Deluxe                    3.0        Single            1.0   \n",
              "1         Deluxe                    4.0      Divorced            2.0   \n",
              "2          Basic                    3.0        Single            7.0   \n",
              "3          Basic                    3.0      Divorced            2.0   \n",
              "4          Basic                    4.0      Divorced            1.0   \n",
              "\n",
              "   Passport  PitchSatisfactionScore  OwnCar  NumberOfChildrenVisiting  \\\n",
              "0         1                       2       1                       0.0   \n",
              "1         0                       3       1                       2.0   \n",
              "2         1                       3       0                       0.0   \n",
              "3         1                       5       1                       1.0   \n",
              "4         0                       5       1                       0.0   \n",
              "\n",
              "  Designation  MonthlyIncome  \n",
              "0     Manager        20993.0  \n",
              "1     Manager        20130.0  \n",
              "2   Executive        17090.0  \n",
              "3   Executive        17909.0  \n",
              "4   Executive        18468.0  "
            ],
            "text/html": [
              "\n",
              "  <div id=\"df-968f7938-db13-4e86-b575-d0ac53be16cc\">\n",
              "    <div class=\"colab-df-container\">\n",
              "      <div>\n",
              "<style scoped>\n",
              "    .dataframe tbody tr th:only-of-type {\n",
              "        vertical-align: middle;\n",
              "    }\n",
              "\n",
              "    .dataframe tbody tr th {\n",
              "        vertical-align: top;\n",
              "    }\n",
              "\n",
              "    .dataframe thead th {\n",
              "        text-align: right;\n",
              "    }\n",
              "</style>\n",
              "<table border=\"1\" class=\"dataframe\">\n",
              "  <thead>\n",
              "    <tr style=\"text-align: right;\">\n",
              "      <th></th>\n",
              "      <th>CustomerID</th>\n",
              "      <th>ProdTaken</th>\n",
              "      <th>Age</th>\n",
              "      <th>TypeofContact</th>\n",
              "      <th>CityTier</th>\n",
              "      <th>DurationOfPitch</th>\n",
              "      <th>Occupation</th>\n",
              "      <th>Gender</th>\n",
              "      <th>NumberOfPersonVisiting</th>\n",
              "      <th>NumberOfFollowups</th>\n",
              "      <th>ProductPitched</th>\n",
              "      <th>PreferredPropertyStar</th>\n",
              "      <th>MaritalStatus</th>\n",
              "      <th>NumberOfTrips</th>\n",
              "      <th>Passport</th>\n",
              "      <th>PitchSatisfactionScore</th>\n",
              "      <th>OwnCar</th>\n",
              "      <th>NumberOfChildrenVisiting</th>\n",
              "      <th>Designation</th>\n",
              "      <th>MonthlyIncome</th>\n",
              "    </tr>\n",
              "  </thead>\n",
              "  <tbody>\n",
              "    <tr>\n",
              "      <th>0</th>\n",
              "      <td>200000</td>\n",
              "      <td>1</td>\n",
              "      <td>41.0</td>\n",
              "      <td>Self Enquiry</td>\n",
              "      <td>3</td>\n",
              "      <td>6.0</td>\n",
              "      <td>Salaried</td>\n",
              "      <td>Female</td>\n",
              "      <td>3</td>\n",
              "      <td>3.0</td>\n",
              "      <td>Deluxe</td>\n",
              "      <td>3.0</td>\n",
              "      <td>Single</td>\n",
              "      <td>1.0</td>\n",
              "      <td>1</td>\n",
              "      <td>2</td>\n",
              "      <td>1</td>\n",
              "      <td>0.0</td>\n",
              "      <td>Manager</td>\n",
              "      <td>20993.0</td>\n",
              "    </tr>\n",
              "    <tr>\n",
              "      <th>1</th>\n",
              "      <td>200001</td>\n",
              "      <td>0</td>\n",
              "      <td>49.0</td>\n",
              "      <td>Company Invited</td>\n",
              "      <td>1</td>\n",
              "      <td>14.0</td>\n",
              "      <td>Salaried</td>\n",
              "      <td>Male</td>\n",
              "      <td>3</td>\n",
              "      <td>4.0</td>\n",
              "      <td>Deluxe</td>\n",
              "      <td>4.0</td>\n",
              "      <td>Divorced</td>\n",
              "      <td>2.0</td>\n",
              "      <td>0</td>\n",
              "      <td>3</td>\n",
              "      <td>1</td>\n",
              "      <td>2.0</td>\n",
              "      <td>Manager</td>\n",
              "      <td>20130.0</td>\n",
              "    </tr>\n",
              "    <tr>\n",
              "      <th>2</th>\n",
              "      <td>200002</td>\n",
              "      <td>1</td>\n",
              "      <td>37.0</td>\n",
              "      <td>Self Enquiry</td>\n",
              "      <td>1</td>\n",
              "      <td>8.0</td>\n",
              "      <td>Free Lancer</td>\n",
              "      <td>Male</td>\n",
              "      <td>3</td>\n",
              "      <td>4.0</td>\n",
              "      <td>Basic</td>\n",
              "      <td>3.0</td>\n",
              "      <td>Single</td>\n",
              "      <td>7.0</td>\n",
              "      <td>1</td>\n",
              "      <td>3</td>\n",
              "      <td>0</td>\n",
              "      <td>0.0</td>\n",
              "      <td>Executive</td>\n",
              "      <td>17090.0</td>\n",
              "    </tr>\n",
              "    <tr>\n",
              "      <th>3</th>\n",
              "      <td>200003</td>\n",
              "      <td>0</td>\n",
              "      <td>33.0</td>\n",
              "      <td>Company Invited</td>\n",
              "      <td>1</td>\n",
              "      <td>9.0</td>\n",
              "      <td>Salaried</td>\n",
              "      <td>Female</td>\n",
              "      <td>2</td>\n",
              "      <td>3.0</td>\n",
              "      <td>Basic</td>\n",
              "      <td>3.0</td>\n",
              "      <td>Divorced</td>\n",
              "      <td>2.0</td>\n",
              "      <td>1</td>\n",
              "      <td>5</td>\n",
              "      <td>1</td>\n",
              "      <td>1.0</td>\n",
              "      <td>Executive</td>\n",
              "      <td>17909.0</td>\n",
              "    </tr>\n",
              "    <tr>\n",
              "      <th>4</th>\n",
              "      <td>200004</td>\n",
              "      <td>0</td>\n",
              "      <td>NaN</td>\n",
              "      <td>Self Enquiry</td>\n",
              "      <td>1</td>\n",
              "      <td>8.0</td>\n",
              "      <td>Small Business</td>\n",
              "      <td>Male</td>\n",
              "      <td>2</td>\n",
              "      <td>3.0</td>\n",
              "      <td>Basic</td>\n",
              "      <td>4.0</td>\n",
              "      <td>Divorced</td>\n",
              "      <td>1.0</td>\n",
              "      <td>0</td>\n",
              "      <td>5</td>\n",
              "      <td>1</td>\n",
              "      <td>0.0</td>\n",
              "      <td>Executive</td>\n",
              "      <td>18468.0</td>\n",
              "    </tr>\n",
              "  </tbody>\n",
              "</table>\n",
              "</div>\n",
              "      <button class=\"colab-df-convert\" onclick=\"convertToInteractive('df-968f7938-db13-4e86-b575-d0ac53be16cc')\"\n",
              "              title=\"Convert this dataframe to an interactive table.\"\n",
              "              style=\"display:none;\">\n",
              "        \n",
              "  <svg xmlns=\"http://www.w3.org/2000/svg\" height=\"24px\"viewBox=\"0 0 24 24\"\n",
              "       width=\"24px\">\n",
              "    <path d=\"M0 0h24v24H0V0z\" fill=\"none\"/>\n",
              "    <path d=\"M18.56 5.44l.94 2.06.94-2.06 2.06-.94-2.06-.94-.94-2.06-.94 2.06-2.06.94zm-11 1L8.5 8.5l.94-2.06 2.06-.94-2.06-.94L8.5 2.5l-.94 2.06-2.06.94zm10 10l.94 2.06.94-2.06 2.06-.94-2.06-.94-.94-2.06-.94 2.06-2.06.94z\"/><path d=\"M17.41 7.96l-1.37-1.37c-.4-.4-.92-.59-1.43-.59-.52 0-1.04.2-1.43.59L10.3 9.45l-7.72 7.72c-.78.78-.78 2.05 0 2.83L4 21.41c.39.39.9.59 1.41.59.51 0 1.02-.2 1.41-.59l7.78-7.78 2.81-2.81c.8-.78.8-2.07 0-2.86zM5.41 20L4 18.59l7.72-7.72 1.47 1.35L5.41 20z\"/>\n",
              "  </svg>\n",
              "      </button>\n",
              "      \n",
              "  <style>\n",
              "    .colab-df-container {\n",
              "      display:flex;\n",
              "      flex-wrap:wrap;\n",
              "      gap: 12px;\n",
              "    }\n",
              "\n",
              "    .colab-df-convert {\n",
              "      background-color: #E8F0FE;\n",
              "      border: none;\n",
              "      border-radius: 50%;\n",
              "      cursor: pointer;\n",
              "      display: none;\n",
              "      fill: #1967D2;\n",
              "      height: 32px;\n",
              "      padding: 0 0 0 0;\n",
              "      width: 32px;\n",
              "    }\n",
              "\n",
              "    .colab-df-convert:hover {\n",
              "      background-color: #E2EBFA;\n",
              "      box-shadow: 0px 1px 2px rgba(60, 64, 67, 0.3), 0px 1px 3px 1px rgba(60, 64, 67, 0.15);\n",
              "      fill: #174EA6;\n",
              "    }\n",
              "\n",
              "    [theme=dark] .colab-df-convert {\n",
              "      background-color: #3B4455;\n",
              "      fill: #D2E3FC;\n",
              "    }\n",
              "\n",
              "    [theme=dark] .colab-df-convert:hover {\n",
              "      background-color: #434B5C;\n",
              "      box-shadow: 0px 1px 3px 1px rgba(0, 0, 0, 0.15);\n",
              "      filter: drop-shadow(0px 1px 2px rgba(0, 0, 0, 0.3));\n",
              "      fill: #FFFFFF;\n",
              "    }\n",
              "  </style>\n",
              "\n",
              "      <script>\n",
              "        const buttonEl =\n",
              "          document.querySelector('#df-968f7938-db13-4e86-b575-d0ac53be16cc button.colab-df-convert');\n",
              "        buttonEl.style.display =\n",
              "          google.colab.kernel.accessAllowed ? 'block' : 'none';\n",
              "\n",
              "        async function convertToInteractive(key) {\n",
              "          const element = document.querySelector('#df-968f7938-db13-4e86-b575-d0ac53be16cc');\n",
              "          const dataTable =\n",
              "            await google.colab.kernel.invokeFunction('convertToInteractive',\n",
              "                                                     [key], {});\n",
              "          if (!dataTable) return;\n",
              "\n",
              "          const docLinkHtml = 'Like what you see? Visit the ' +\n",
              "            '<a target=\"_blank\" href=https://colab.research.google.com/notebooks/data_table.ipynb>data table notebook</a>'\n",
              "            + ' to learn more about interactive tables.';\n",
              "          element.innerHTML = '';\n",
              "          dataTable['output_type'] = 'display_data';\n",
              "          await google.colab.output.renderOutput(dataTable, element);\n",
              "          const docLink = document.createElement('div');\n",
              "          docLink.innerHTML = docLinkHtml;\n",
              "          element.appendChild(docLink);\n",
              "        }\n",
              "      </script>\n",
              "    </div>\n",
              "  </div>\n",
              "  "
            ]
          },
          "metadata": {},
          "execution_count": 40
        }
      ]
    },
    {
      "cell_type": "markdown",
      "source": [
        "## **Splitting Data**"
      ],
      "metadata": {
        "id": "PgL-i-R5yzix"
      }
    },
    {
      "cell_type": "code",
      "source": [
        "from sklearn.model_selection import train_test_split\n",
        "X = data.drop('ProdTaken', axis=1)\n",
        "y = data['ProdTaken']\n",
        "X_train, X_test, y_train, y_test = train_test_split(X, y, test_size = 0.2, stratify=y, random_state=42)"
      ],
      "metadata": {
        "id": "d5c8F5Jhy0VV"
      },
      "execution_count": null,
      "outputs": []
    },
    {
      "cell_type": "code",
      "source": [
        "train =  pd.concat([X_train, pd.DataFrame(y_train)], axis=1)\n",
        "test =  pd.concat([X_test, pd.DataFrame(y_test)], axis=1)\n",
        "\n",
        "train.shape, test.shape"
      ],
      "metadata": {
        "colab": {
          "base_uri": "https://localhost:8080/"
        },
        "id": "N6ZOLkJKy0eC",
        "outputId": "5d41ce1e-78a7-4c62-9758-b4cd76a83c14"
      },
      "execution_count": null,
      "outputs": [
        {
          "output_type": "execute_result",
          "data": {
            "text/plain": [
              "((3910, 20), (978, 20))"
            ]
          },
          "metadata": {},
          "execution_count": 42
        }
      ]
    },
    {
      "cell_type": "markdown",
      "source": [
        "## **Mengganti value yang tidak rasional & Drop CustomerID**"
      ],
      "metadata": {
        "id": "acvuf4ou0eQH"
      }
    },
    {
      "cell_type": "code",
      "source": [
        "# mengganti values yang tidak rasional\n",
        "train.loc[train['Gender'] == 'Fe Male', 'Gender'] = 'Female'\n",
        "train.loc[train['MaritalStatus'] == 'Unmarried', 'MaritalStatus'] = 'Single'\n",
        "test.loc[test['Gender'] == 'Fe Male', 'Gender'] = 'Female'\n",
        "test.loc[test['MaritalStatus'] == 'Unmarried', 'MaritalStatus'] = 'Single'\n",
        "# menghapus kolom Customer ID\n",
        "train.drop('CustomerID', axis=1, inplace=True)\n",
        "test.drop('CustomerID', axis=1, inplace=True)"
      ],
      "metadata": {
        "id": "zgDsnDxkZF8n"
      },
      "execution_count": null,
      "outputs": []
    },
    {
      "cell_type": "markdown",
      "source": [
        "## **Handle Missing Values**"
      ],
      "metadata": {
        "id": "cbGkQK-hrNGD"
      }
    },
    {
      "cell_type": "code",
      "source": [
        "#Persentase missing value pada semua feature\n",
        "for kolom in train.columns:\n",
        "    missing_value = (train[kolom].isnull().sum()/train.shape[0])*100\n",
        "    if missing_value == 0:\n",
        "        pass\n",
        "    else:\n",
        "        print(f'Persentase missing value pada feature {kolom} adalah {missing_value:.2f}%')"
      ],
      "metadata": {
        "colab": {
          "base_uri": "https://localhost:8080/"
        },
        "id": "dPdmntsmdJ8H",
        "outputId": "399b9cd1-c4ee-40f3-8ee4-5544fbac2aad"
      },
      "execution_count": null,
      "outputs": [
        {
          "output_type": "stream",
          "name": "stdout",
          "text": [
            "Persentase missing value pada feature Age adalah 4.68%\n",
            "Persentase missing value pada feature TypeofContact adalah 0.43%\n",
            "Persentase missing value pada feature DurationOfPitch adalah 4.96%\n",
            "Persentase missing value pada feature NumberOfFollowups adalah 1.00%\n",
            "Persentase missing value pada feature PreferredPropertyStar adalah 0.49%\n",
            "Persentase missing value pada feature NumberOfTrips adalah 2.74%\n",
            "Persentase missing value pada feature NumberOfChildrenVisiting adalah 1.36%\n",
            "Persentase missing value pada feature MonthlyIncome adalah 4.68%\n"
          ]
        }
      ]
    },
    {
      "cell_type": "code",
      "execution_count": null,
      "metadata": {
        "id": "imuJgd6XquRz",
        "colab": {
          "base_uri": "https://localhost:8080/"
        },
        "outputId": "3a34e295-9c7e-4fe4-a113-802c20ba8d2e"
      },
      "outputs": [
        {
          "output_type": "stream",
          "name": "stdout",
          "text": [
            "15.35%\n"
          ]
        }
      ],
      "source": [
        "# calculate percentage of total missing values\n",
        "total_missing_values = train.isnull().any(axis = 1).sum()*100/train.shape[0]\n",
        "print(f'{total_missing_values:.2f}%')"
      ]
    },
    {
      "cell_type": "markdown",
      "source": [
        "Meskipun missing value di masing-masing kolom tidak lebih dari 5%, namun jumlah baris yang memuat setidaknya 1 missing value secara keseluruhan mencapai 15.35% dari total data. Oleh karena itu, perlu dilakukan imputasi pada data yang kosong menggunakan median (untuk data numerik) dan modus/top frequented (untuk data kategorik)"
      ],
      "metadata": {
        "id": "xWzNyE1WkMEl"
      }
    },
    {
      "cell_type": "code",
      "source": [
        "from sklearn.impute import SimpleImputer\n",
        "for i in (train.select_dtypes(include = 'number').columns):\n",
        "      imputer = SimpleImputer(strategy='median').fit(train[[i]])\n",
        "      train[i] = imputer.transform(train[[i]])\n",
        "      test[i] = imputer.transform(test[[i]])\n",
        "    \n",
        "for i in (train.select_dtypes(include = ['object', 'category']).columns):\n",
        "      imputer = SimpleImputer(strategy='most_frequent').fit(train[[i]])\n",
        "      train[i] = imputer.transform(train[[i]])\n",
        "      test[i] = imputer.transform(test[[i]])"
      ],
      "metadata": {
        "id": "7C_VZ4mAZVAS"
      },
      "execution_count": null,
      "outputs": []
    },
    {
      "cell_type": "markdown",
      "source": [
        "## **Feature Extraction**\n",
        "\n",
        "Binning feature `Age` berdasarkan [referensi age structure saudi arabia](https://www.indexmundi.com/saudi_arabia/age_structure.html), yaitu :\n",
        "  * 15-24 years (early working age)\n",
        "  * 25-54 years (prime working age)\n",
        "  * 55-64 years (mature working age)\n",
        "\n"
      ],
      "metadata": {
        "id": "32iABs5wcFj8"
      }
    },
    {
      "cell_type": "code",
      "source": [
        "train['AgeStructure'] = pd.cut(train['Age'], [15,24,54,64], labels=['Early Working Age','Prime Working Age', 'Mature Working Age'])\n",
        "test['AgeStructure'] = pd.cut(test['Age'], [15,24,54,64], labels=['Early working age','Prime working age', 'Mature working age'])"
      ],
      "metadata": {
        "id": "eY-hpdZXgfNa"
      },
      "execution_count": null,
      "outputs": []
    },
    {
      "cell_type": "markdown",
      "source": [
        "Membuat feature `MarketingCost` yang dibentuk berdasarkan feature `DurationOfPitch` dan `NumberOfFollowups`"
      ],
      "metadata": {
        "id": "qhspdMD2vpJR"
      }
    },
    {
      "cell_type": "code",
      "source": [
        "PhoneRate = 0.5\n",
        "train['MarketingCost'] = train['DurationOfPitch'] * train['NumberOfFollowups'] * PhoneRate\n",
        "test['MarketingCost'] = test['DurationOfPitch'] * test['NumberOfFollowups'] * PhoneRate"
      ],
      "metadata": {
        "id": "d479LA05v3qE"
      },
      "execution_count": null,
      "outputs": []
    },
    {
      "cell_type": "code",
      "source": [
        "train.shape, test.shape"
      ],
      "metadata": {
        "colab": {
          "base_uri": "https://localhost:8080/"
        },
        "id": "o7lMM-V14tpp",
        "outputId": "32051c57-55ec-4bed-ff1e-a50256017caa"
      },
      "execution_count": null,
      "outputs": [
        {
          "output_type": "execute_result",
          "data": {
            "text/plain": [
              "((3910, 21), (978, 21))"
            ]
          },
          "metadata": {},
          "execution_count": 49
        }
      ]
    },
    {
      "cell_type": "markdown",
      "source": [
        "## **Handle Duplicated Data**\n",
        "\n",
        "Terdapat 99 baris memiliki duplikat data pada data train, untuk mengoptimalkan hasil dari model maka perlu membuang duplicated data tersebut."
      ],
      "metadata": {
        "id": "Afvpps1rrSSr"
      }
    },
    {
      "cell_type": "code",
      "source": [
        "# total duplikat data\n",
        "train.duplicated().sum(), test.duplicated().sum()"
      ],
      "metadata": {
        "colab": {
          "base_uri": "https://localhost:8080/"
        },
        "id": "PuZSCgyNa2j4",
        "outputId": "e268d0ef-9395-452a-fb37-bbc4dbf42df2"
      },
      "execution_count": null,
      "outputs": [
        {
          "output_type": "execute_result",
          "data": {
            "text/plain": [
              "(99, 3)"
            ]
          },
          "metadata": {},
          "execution_count": 50
        }
      ]
    },
    {
      "cell_type": "code",
      "source": [
        "# jumlah rows sebelum menghapus duplikat data\n",
        "train.shape, test.shape"
      ],
      "metadata": {
        "colab": {
          "base_uri": "https://localhost:8080/"
        },
        "id": "xbD0Du6XZia1",
        "outputId": "f4f385f9-ce63-4fbd-8bb2-2f9efec16e97"
      },
      "execution_count": null,
      "outputs": [
        {
          "output_type": "execute_result",
          "data": {
            "text/plain": [
              "((3910, 21), (978, 21))"
            ]
          },
          "metadata": {},
          "execution_count": 51
        }
      ]
    },
    {
      "cell_type": "code",
      "source": [
        "# menghapus duplikat data\n",
        "train.drop_duplicates(keep='first', inplace=True)\n",
        "test.drop_duplicates(keep='first', inplace=True)"
      ],
      "metadata": {
        "id": "02EXty3fZ4Be"
      },
      "execution_count": null,
      "outputs": []
    },
    {
      "cell_type": "code",
      "source": [
        "# jumlah rows setelah menghapus duplikat data\n",
        "train.shape, test.shape"
      ],
      "metadata": {
        "colab": {
          "base_uri": "https://localhost:8080/"
        },
        "id": "eZlJoGA1bG3L",
        "outputId": "017c120c-0cf7-41ed-8567-71cf28a34c46"
      },
      "execution_count": null,
      "outputs": [
        {
          "output_type": "execute_result",
          "data": {
            "text/plain": [
              "((3811, 21), (975, 21))"
            ]
          },
          "metadata": {},
          "execution_count": 53
        }
      ]
    },
    {
      "cell_type": "markdown",
      "source": [
        "## **Handle Outliers**\n",
        "\n",
        "Berdasarkan EDA, terdapat 5 features yang memiliki outliers, yaitu\n",
        "1. `MonthlyIncome`. Terdapat 283 data outlier yang bernilai antara SAR 32,856 - 98,678 di kolom MonthlyIncome. Berdasarkan pengelompokkan Designation, ada 2 data yang melebihi rentang monthly income, yaitu pada Designation Executive. Menurut survei dari [salaryexplorer.com](http://www.salaryexplorer.com/salary-survey.php?loc=2150&loctype=3&job=24&jobtype=1#:~:text=A%20person%20working%20in%20Executive%20and%20Management%20in%20Riyadh%20typically,%2C%20transport%2C%20and%20other%20benefits.), rataan tertinggi monthly income Executive di Riyadh adalah SAR 39,400. Penanganan 2 nilai ekstrem ini dilakukan dengan cara menggantinya dengan nilai maksimum yang bukan merupakan nilai ekstrem, yaitu SAR 38,677.\n",
        "2. `NumberOfFollowups`. Terdapat 106 data outlier yang bernilai 6 dan 146 data outlier bernilai 1 di kolom NumberOfFollowups. Outlier ini kami pertimbangkan untuk tidak dihapus karena termasuk dalam natural variation. Sangat memungkinkan jumlah follow up yang dilakukan oleh sales marketer ke customer hanya 1 kali atau hingga mencapai 6 kali.\n",
        "3. `NumberOfTrips`. Terdapat 87 data outlier yang bernilai antara 8 - 22 di kolom NumberOfTrips. Outlier ini kami pertimbangkan untuk tidak dihapus karena termasuk dalam natural variation. Sangat memungkinkan jumlah trip customer yang memiliki rataan penghasilan bulanan SAR 24,369.8 berkisar antara 8 sampai dengan 22 kali dalam setahun.\n",
        "4. `NumberOfPersonVisiting`. Terdapat 2 data outlier yang bernilai 5 di kolom NumberOfPersonVisiting. Outlier ini kami pertimbangkan untuk tidak dihapus karena termasuk dalam natural variation. Banyaknya orang yang berencana mengambil trip bersama sangat memungkinkan berjumlah 5 orang.\n",
        "5. `DurationOfPitch`. Terdapat 2 data DurationOfPitch yang sangat ekstrem yaitu 127 dan 126. Kami meyakini bahwa nilai outlier ini adalah kesalahan dalam entry data. Penanganan 2 nilai ekstrem ini dilakukan dengan cara menggantinya dengan nilai maksimum yang bukan merupakan nilai ekstrem, yaitu 36."
      ],
      "metadata": {
        "id": "dugSNZx7rWdI"
      }
    },
    {
      "cell_type": "code",
      "source": [
        "# menangani outlier\n",
        "train.loc[train['MonthlyIncome'] > 38677.0, 'MonthlyIncome'] = 38677.0\n",
        "train.loc[train['DurationOfPitch'] > 36.0, 'DurationOfPitch'] = 36.0\n",
        "train.loc[train['NumberOfPersonVisiting'] > 5, 'NumberOfPersonVisiting'] = 5\n",
        "train.loc[train['NumberOfFollowups'] > 6, 'NumberOfFollowups'] = 6\n",
        "train.loc[train['NumberOfTrips'] > 22.0 , 'NumberOfTrips'] = 22.0\n",
        "\n",
        "test.loc[test['DurationOfPitch'] > 36.0, 'DurationOfPitch'] = 36.0\n",
        "test.loc[test['NumberOfPersonVisiting'] > 5, 'NumberOfPersonVisiting'] = 5\n",
        "test.loc[test['NumberOfFollowups'] > 6, 'NumberOfFollowups'] = 6\n",
        "test.loc[test['NumberOfTrips'] > 22.0 , 'NumberOfTrips'] = 22.0\n",
        "test.loc[test['MonthlyIncome'] > 38677.0, 'MonthlyIncome'] = 38677.0\n",
        "test.loc[test['MonthlyIncome'] > 16009.0, 'MonthlyIncome'] = 16009.0"
      ],
      "metadata": {
        "id": "x02FYJGphftf"
      },
      "execution_count": null,
      "outputs": []
    },
    {
      "cell_type": "code",
      "source": [
        "train.shape, test.shape"
      ],
      "metadata": {
        "colab": {
          "base_uri": "https://localhost:8080/"
        },
        "id": "kCjWMaT02iTK",
        "outputId": "351783e0-b7c2-4c7f-e883-1e797a940c69"
      },
      "execution_count": null,
      "outputs": [
        {
          "output_type": "execute_result",
          "data": {
            "text/plain": [
              "((3811, 21), (975, 21))"
            ]
          },
          "metadata": {},
          "execution_count": 55
        }
      ]
    },
    {
      "cell_type": "markdown",
      "source": [
        "## **Feature Transformation**\n",
        "\n",
        "Beberapa feature numerik memiliki value yang sangat tinggi dibandingkan dengan feature lainnya, seperti `MonthlyIncome` yang memiliki nilai terkecil 1000 dan `NumberOfTrips` yang memiliki nilai terbesar 22. Oleh karena itu, diterapkan feature scaling untuk menyesuaikan nilai pada setiap feature. Feature scaling yang digunakan adalah Standardization mengingat beberapa feature positvely skewed.\n"
      ],
      "metadata": {
        "id": "4zvixyVbrZzU"
      }
    },
    {
      "cell_type": "code",
      "source": [
        "from sklearn.preprocessing import StandardScaler\n",
        "features = ['Age','DurationOfPitch','NumberOfTrips','NumberOfPersonVisiting', 'NumberOfFollowups', 'NumberOfChildrenVisiting','MonthlyIncome','MarketingCost']\n",
        "for i in features:\n",
        "  scaler = StandardScaler().fit(train[[i]])\n",
        "  train[i]= scaler.transform(train[[i]])\n",
        "  test[i]= scaler.transform(test[[i]])"
      ],
      "metadata": {
        "id": "Fc1yahlphnK9"
      },
      "execution_count": null,
      "outputs": []
    },
    {
      "cell_type": "markdown",
      "source": [
        "## **Feature Encoding**\n",
        "Pada tahap EDA ditemukan feature `Gender`memiliki tiga unique values, yaitiu Male, Female, dan Fe Male sehingga perlu dilakukan perubahan dari Fe Male menjadi Female. Kemudian pada feature `MaritalStatus` perlu dilakukan perubahan dari unmarried menjadi single, karena menurut [referensi](https://www.un.org/en/development/desa/population/publications/dataset/marriage/marital-status.asp) tidak ada value unmarried, sehingga dilakukan perubahan untuk mengurangi ambiguitas. \n",
        "\n",
        "Feature kategorik terbagi menjadi dua tipe, yaitu nominal dan ordinal. Pada data dengan tipe nominal dan memiliki dua unique values, dilakukan perubahan label menjadi numerik dalam bentuk biner 0 atau 1. Sementara untuk data dengan tipe nominal dan memiliki lebih dari dua unique  values, dilakukan perubahan menjadi feature tersendiri (OneHoteEncoding)."
      ],
      "metadata": {
        "id": "pvX9bw-Xrffw"
      }
    },
    {
      "cell_type": "code",
      "source": [
        "# Label encoding\n",
        "from sklearn import preprocessing\n",
        "label_encoder = preprocessing.LabelEncoder()\n",
        "\n",
        "features = ['TypeofContact','Gender']\n",
        "for var in features:\n",
        "  train[var]= label_encoder.fit_transform(train[var])\n",
        "  test[var]= label_encoder.transform(test[var])"
      ],
      "metadata": {
        "id": "7vio51GrhtyQ"
      },
      "execution_count": null,
      "outputs": []
    },
    {
      "cell_type": "code",
      "source": [
        "# Encoding\n",
        "categorical_cols = ['Occupation', 'ProductPitched', 'MaritalStatus','Designation', 'AgeStructure']\n",
        "\n",
        "encoding_train = pd.get_dummies(train[categorical_cols], prefix_sep = ':', drop_first=True)\n",
        "train = pd.concat([train, encoding_train], axis=1)\n",
        "train.drop(categorical_cols, axis=1, inplace=True)\n",
        "\n",
        "encoding_test = pd.get_dummies(test[categorical_cols], prefix_sep = ':')\n",
        "test = pd.concat([test, encoding_test], axis=1)\n",
        "test.drop(categorical_cols, axis=1, inplace=True)\n",
        "zeros = [col for col in encoding_train.columns.tolist() if col not in encoding_test.columns.tolist()]\n",
        "for i in zeros:\n",
        "  test[i] = 0\n",
        "drop_first = [col for col in encoding_test.columns.tolist() if col not in encoding_train.columns.tolist()]\n",
        "for i in drop_first:\n",
        "  test.drop(i, axis=1, inplace=True)"
      ],
      "metadata": {
        "id": "uXh0RVFSE0xR"
      },
      "execution_count": null,
      "outputs": []
    },
    {
      "cell_type": "code",
      "source": [
        "train.shape, test.shape"
      ],
      "metadata": {
        "colab": {
          "base_uri": "https://localhost:8080/"
        },
        "id": "wbI7EjBXNW_f",
        "outputId": "7f283581-baee-4609-f5b8-68c76bcf56ec"
      },
      "execution_count": null,
      "outputs": [
        {
          "output_type": "execute_result",
          "data": {
            "text/plain": [
              "((3811, 31), (975, 31))"
            ]
          },
          "metadata": {},
          "execution_count": 59
        }
      ]
    },
    {
      "cell_type": "code",
      "source": [
        "# cek kesamaan kolom di train dan test\n",
        "train.columns.tolist() == test.columns.tolist()"
      ],
      "metadata": {
        "colab": {
          "base_uri": "https://localhost:8080/"
        },
        "id": "vsq24RpxItho",
        "outputId": "de057186-846a-441a-ea10-dc57abf99b0c"
      },
      "execution_count": null,
      "outputs": [
        {
          "output_type": "execute_result",
          "data": {
            "text/plain": [
              "True"
            ]
          },
          "metadata": {},
          "execution_count": 60
        }
      ]
    },
    {
      "cell_type": "markdown",
      "source": [
        "## **Handle Class Imbalance**\n",
        "\n",
        "Target pada case ini adalah `ProdTaken`, berdasarkan tahap EDA ditemukan bahwa target memiliki ketimpangan values yaitu 80% memiliki label 0 dan 20% sisanya memiliki label 1. Masalah imbalance data pada target ditangani dengan metode SMOTE."
      ],
      "metadata": {
        "id": "5DXvQElWrpfp"
      }
    },
    {
      "cell_type": "code",
      "source": [
        "y = train['ProdTaken'].values\n",
        "column_names = train.drop(['ProdTaken'], axis=1).columns.tolist()\n",
        "X = train.drop(['ProdTaken'], axis=1).values\n",
        "\n",
        "X.shape, y.shape"
      ],
      "metadata": {
        "colab": {
          "base_uri": "https://localhost:8080/"
        },
        "id": "jqzIBC9zixvS",
        "outputId": "4c0b4509-8ef7-4e48-b896-b980a8862b76"
      },
      "execution_count": null,
      "outputs": [
        {
          "output_type": "execute_result",
          "data": {
            "text/plain": [
              "((3811, 30), (3811,))"
            ]
          },
          "metadata": {},
          "execution_count": 61
        }
      ]
    },
    {
      "cell_type": "code",
      "source": [
        "pd.DataFrame(y).value_counts()"
      ],
      "metadata": {
        "colab": {
          "base_uri": "https://localhost:8080/"
        },
        "id": "Nww__H6oizxt",
        "outputId": "d79b9309-68f1-496d-f6ab-bb23aabea107"
      },
      "execution_count": null,
      "outputs": [
        {
          "output_type": "execute_result",
          "data": {
            "text/plain": [
              "0.0    3093\n",
              "1.0     718\n",
              "dtype: int64"
            ]
          },
          "metadata": {},
          "execution_count": 62
        }
      ]
    },
    {
      "cell_type": "code",
      "source": [
        "# Oversampling SMOTE\n",
        "from imblearn.over_sampling import SMOTE\n",
        "smote = SMOTE(sampling_strategy=1,random_state = 42)\n",
        "X_over_SMOTE, y_over_SMOTE = smote.fit_resample(X,  y)\n",
        "\n",
        "print(pd.Series(y_over_SMOTE).value_counts())"
      ],
      "metadata": {
        "colab": {
          "base_uri": "https://localhost:8080/"
        },
        "id": "HNIkV8awi2IO",
        "outputId": "3410bd42-3f6f-48d8-d11b-d77070118c25"
      },
      "execution_count": null,
      "outputs": [
        {
          "output_type": "stream",
          "name": "stdout",
          "text": [
            "0.0    3093\n",
            "1.0    3093\n",
            "dtype: int64\n"
          ]
        }
      ]
    },
    {
      "cell_type": "code",
      "source": [
        "X_df = pd.DataFrame(X_over_SMOTE, columns = column_names)\n",
        "pd.set_option('display.max_columns', None)\n",
        "X_df.head()"
      ],
      "metadata": {
        "colab": {
          "base_uri": "https://localhost:8080/"
        },
        "id": "Ny5TX1Dsi4i7",
        "outputId": "f3384c19-e2d6-468f-80ff-c5ae28ff4441"
      },
      "execution_count": null,
      "outputs": [
        {
          "output_type": "execute_result",
          "data": {
            "text/plain": [
              "        Age  TypeofContact  CityTier  DurationOfPitch  Gender  \\\n",
              "0 -0.171019            1.0       3.0        -1.162194     1.0   \n",
              "1 -0.171019            1.0       1.0        -0.914522     1.0   \n",
              "2 -0.280484            0.0       1.0        -0.666850     1.0   \n",
              "3  0.047911            1.0       1.0         1.314528     1.0   \n",
              "4  0.047911            1.0       1.0        -1.162194     0.0   \n",
              "\n",
              "   NumberOfPersonVisiting  NumberOfFollowups  PreferredPropertyStar  \\\n",
              "0               -1.266742          -2.693587                    5.0   \n",
              "1                0.119291          -0.703231                    3.0   \n",
              "2                0.119291           0.291947                    3.0   \n",
              "3                1.505325           0.291947                    4.0   \n",
              "4               -1.266742          -0.703231                    5.0   \n",
              "\n",
              "   NumberOfTrips  Passport  PitchSatisfactionScore  OwnCar  \\\n",
              "0      -0.673531       0.0                     4.0     0.0   \n",
              "1      -0.673531       0.0                     5.0     0.0   \n",
              "2      -0.673531       0.0                     2.0     1.0   \n",
              "3       1.520339       0.0                     4.0     0.0   \n",
              "4       0.423404       0.0                     2.0     1.0   \n",
              "\n",
              "   NumberOfChildrenVisiting  MonthlyIncome  MarketingCost  \\\n",
              "0                 -1.379883      -0.243095      -1.415815   \n",
              "1                  0.955775      -1.000276      -0.919053   \n",
              "2                 -0.212054       0.577745      -0.477486   \n",
              "3                  0.955775      -0.361095       1.288782   \n",
              "4                 -0.212054      -1.170433      -1.084640   \n",
              "\n",
              "   Occupation:Large Business  Occupation:Salaried  Occupation:Small Business  \\\n",
              "0                        0.0                  0.0                        1.0   \n",
              "1                        0.0                  1.0                        0.0   \n",
              "2                        0.0                  1.0                        0.0   \n",
              "3                        0.0                  1.0                        0.0   \n",
              "4                        0.0                  1.0                        0.0   \n",
              "\n",
              "   ProductPitched:Deluxe  ProductPitched:King  ProductPitched:Standard  \\\n",
              "0                    1.0                  0.0                      0.0   \n",
              "1                    0.0                  0.0                      0.0   \n",
              "2                    1.0                  0.0                      0.0   \n",
              "3                    0.0                  0.0                      0.0   \n",
              "4                    0.0                  0.0                      0.0   \n",
              "\n",
              "   ProductPitched:Super Deluxe  MaritalStatus:Married  MaritalStatus:Single  \\\n",
              "0                          0.0                    1.0                   0.0   \n",
              "1                          0.0                    1.0                   0.0   \n",
              "2                          0.0                    0.0                   1.0   \n",
              "3                          0.0                    1.0                   0.0   \n",
              "4                          0.0                    0.0                   1.0   \n",
              "\n",
              "   Designation:Executive  Designation:Manager  Designation:Senior Manager  \\\n",
              "0                    0.0                  1.0                         0.0   \n",
              "1                    1.0                  0.0                         0.0   \n",
              "2                    0.0                  1.0                         0.0   \n",
              "3                    1.0                  0.0                         0.0   \n",
              "4                    1.0                  0.0                         0.0   \n",
              "\n",
              "   Designation:VP  AgeStructure:Prime Working Age  \\\n",
              "0             0.0                             1.0   \n",
              "1             0.0                             1.0   \n",
              "2             0.0                             1.0   \n",
              "3             0.0                             1.0   \n",
              "4             0.0                             1.0   \n",
              "\n",
              "   AgeStructure:Mature Working Age  \n",
              "0                              0.0  \n",
              "1                              0.0  \n",
              "2                              0.0  \n",
              "3                              0.0  \n",
              "4                              0.0  "
            ],
            "text/html": [
              "\n",
              "  <div id=\"df-b703ef3e-11e6-4f4a-ac02-ab0d47883b3f\">\n",
              "    <div class=\"colab-df-container\">\n",
              "      <div>\n",
              "<style scoped>\n",
              "    .dataframe tbody tr th:only-of-type {\n",
              "        vertical-align: middle;\n",
              "    }\n",
              "\n",
              "    .dataframe tbody tr th {\n",
              "        vertical-align: top;\n",
              "    }\n",
              "\n",
              "    .dataframe thead th {\n",
              "        text-align: right;\n",
              "    }\n",
              "</style>\n",
              "<table border=\"1\" class=\"dataframe\">\n",
              "  <thead>\n",
              "    <tr style=\"text-align: right;\">\n",
              "      <th></th>\n",
              "      <th>Age</th>\n",
              "      <th>TypeofContact</th>\n",
              "      <th>CityTier</th>\n",
              "      <th>DurationOfPitch</th>\n",
              "      <th>Gender</th>\n",
              "      <th>NumberOfPersonVisiting</th>\n",
              "      <th>NumberOfFollowups</th>\n",
              "      <th>PreferredPropertyStar</th>\n",
              "      <th>NumberOfTrips</th>\n",
              "      <th>Passport</th>\n",
              "      <th>PitchSatisfactionScore</th>\n",
              "      <th>OwnCar</th>\n",
              "      <th>NumberOfChildrenVisiting</th>\n",
              "      <th>MonthlyIncome</th>\n",
              "      <th>MarketingCost</th>\n",
              "      <th>Occupation:Large Business</th>\n",
              "      <th>Occupation:Salaried</th>\n",
              "      <th>Occupation:Small Business</th>\n",
              "      <th>ProductPitched:Deluxe</th>\n",
              "      <th>ProductPitched:King</th>\n",
              "      <th>ProductPitched:Standard</th>\n",
              "      <th>ProductPitched:Super Deluxe</th>\n",
              "      <th>MaritalStatus:Married</th>\n",
              "      <th>MaritalStatus:Single</th>\n",
              "      <th>Designation:Executive</th>\n",
              "      <th>Designation:Manager</th>\n",
              "      <th>Designation:Senior Manager</th>\n",
              "      <th>Designation:VP</th>\n",
              "      <th>AgeStructure:Prime Working Age</th>\n",
              "      <th>AgeStructure:Mature Working Age</th>\n",
              "    </tr>\n",
              "  </thead>\n",
              "  <tbody>\n",
              "    <tr>\n",
              "      <th>0</th>\n",
              "      <td>-0.171019</td>\n",
              "      <td>1.0</td>\n",
              "      <td>3.0</td>\n",
              "      <td>-1.162194</td>\n",
              "      <td>1.0</td>\n",
              "      <td>-1.266742</td>\n",
              "      <td>-2.693587</td>\n",
              "      <td>5.0</td>\n",
              "      <td>-0.673531</td>\n",
              "      <td>0.0</td>\n",
              "      <td>4.0</td>\n",
              "      <td>0.0</td>\n",
              "      <td>-1.379883</td>\n",
              "      <td>-0.243095</td>\n",
              "      <td>-1.415815</td>\n",
              "      <td>0.0</td>\n",
              "      <td>0.0</td>\n",
              "      <td>1.0</td>\n",
              "      <td>1.0</td>\n",
              "      <td>0.0</td>\n",
              "      <td>0.0</td>\n",
              "      <td>0.0</td>\n",
              "      <td>1.0</td>\n",
              "      <td>0.0</td>\n",
              "      <td>0.0</td>\n",
              "      <td>1.0</td>\n",
              "      <td>0.0</td>\n",
              "      <td>0.0</td>\n",
              "      <td>1.0</td>\n",
              "      <td>0.0</td>\n",
              "    </tr>\n",
              "    <tr>\n",
              "      <th>1</th>\n",
              "      <td>-0.171019</td>\n",
              "      <td>1.0</td>\n",
              "      <td>1.0</td>\n",
              "      <td>-0.914522</td>\n",
              "      <td>1.0</td>\n",
              "      <td>0.119291</td>\n",
              "      <td>-0.703231</td>\n",
              "      <td>3.0</td>\n",
              "      <td>-0.673531</td>\n",
              "      <td>0.0</td>\n",
              "      <td>5.0</td>\n",
              "      <td>0.0</td>\n",
              "      <td>0.955775</td>\n",
              "      <td>-1.000276</td>\n",
              "      <td>-0.919053</td>\n",
              "      <td>0.0</td>\n",
              "      <td>1.0</td>\n",
              "      <td>0.0</td>\n",
              "      <td>0.0</td>\n",
              "      <td>0.0</td>\n",
              "      <td>0.0</td>\n",
              "      <td>0.0</td>\n",
              "      <td>1.0</td>\n",
              "      <td>0.0</td>\n",
              "      <td>1.0</td>\n",
              "      <td>0.0</td>\n",
              "      <td>0.0</td>\n",
              "      <td>0.0</td>\n",
              "      <td>1.0</td>\n",
              "      <td>0.0</td>\n",
              "    </tr>\n",
              "    <tr>\n",
              "      <th>2</th>\n",
              "      <td>-0.280484</td>\n",
              "      <td>0.0</td>\n",
              "      <td>1.0</td>\n",
              "      <td>-0.666850</td>\n",
              "      <td>1.0</td>\n",
              "      <td>0.119291</td>\n",
              "      <td>0.291947</td>\n",
              "      <td>3.0</td>\n",
              "      <td>-0.673531</td>\n",
              "      <td>0.0</td>\n",
              "      <td>2.0</td>\n",
              "      <td>1.0</td>\n",
              "      <td>-0.212054</td>\n",
              "      <td>0.577745</td>\n",
              "      <td>-0.477486</td>\n",
              "      <td>0.0</td>\n",
              "      <td>1.0</td>\n",
              "      <td>0.0</td>\n",
              "      <td>1.0</td>\n",
              "      <td>0.0</td>\n",
              "      <td>0.0</td>\n",
              "      <td>0.0</td>\n",
              "      <td>0.0</td>\n",
              "      <td>1.0</td>\n",
              "      <td>0.0</td>\n",
              "      <td>1.0</td>\n",
              "      <td>0.0</td>\n",
              "      <td>0.0</td>\n",
              "      <td>1.0</td>\n",
              "      <td>0.0</td>\n",
              "    </tr>\n",
              "    <tr>\n",
              "      <th>3</th>\n",
              "      <td>0.047911</td>\n",
              "      <td>1.0</td>\n",
              "      <td>1.0</td>\n",
              "      <td>1.314528</td>\n",
              "      <td>1.0</td>\n",
              "      <td>1.505325</td>\n",
              "      <td>0.291947</td>\n",
              "      <td>4.0</td>\n",
              "      <td>1.520339</td>\n",
              "      <td>0.0</td>\n",
              "      <td>4.0</td>\n",
              "      <td>0.0</td>\n",
              "      <td>0.955775</td>\n",
              "      <td>-0.361095</td>\n",
              "      <td>1.288782</td>\n",
              "      <td>0.0</td>\n",
              "      <td>1.0</td>\n",
              "      <td>0.0</td>\n",
              "      <td>0.0</td>\n",
              "      <td>0.0</td>\n",
              "      <td>0.0</td>\n",
              "      <td>0.0</td>\n",
              "      <td>1.0</td>\n",
              "      <td>0.0</td>\n",
              "      <td>1.0</td>\n",
              "      <td>0.0</td>\n",
              "      <td>0.0</td>\n",
              "      <td>0.0</td>\n",
              "      <td>1.0</td>\n",
              "      <td>0.0</td>\n",
              "    </tr>\n",
              "    <tr>\n",
              "      <th>4</th>\n",
              "      <td>0.047911</td>\n",
              "      <td>1.0</td>\n",
              "      <td>1.0</td>\n",
              "      <td>-1.162194</td>\n",
              "      <td>0.0</td>\n",
              "      <td>-1.266742</td>\n",
              "      <td>-0.703231</td>\n",
              "      <td>5.0</td>\n",
              "      <td>0.423404</td>\n",
              "      <td>0.0</td>\n",
              "      <td>2.0</td>\n",
              "      <td>1.0</td>\n",
              "      <td>-0.212054</td>\n",
              "      <td>-1.170433</td>\n",
              "      <td>-1.084640</td>\n",
              "      <td>0.0</td>\n",
              "      <td>1.0</td>\n",
              "      <td>0.0</td>\n",
              "      <td>0.0</td>\n",
              "      <td>0.0</td>\n",
              "      <td>0.0</td>\n",
              "      <td>0.0</td>\n",
              "      <td>0.0</td>\n",
              "      <td>1.0</td>\n",
              "      <td>1.0</td>\n",
              "      <td>0.0</td>\n",
              "      <td>0.0</td>\n",
              "      <td>0.0</td>\n",
              "      <td>1.0</td>\n",
              "      <td>0.0</td>\n",
              "    </tr>\n",
              "  </tbody>\n",
              "</table>\n",
              "</div>\n",
              "      <button class=\"colab-df-convert\" onclick=\"convertToInteractive('df-b703ef3e-11e6-4f4a-ac02-ab0d47883b3f')\"\n",
              "              title=\"Convert this dataframe to an interactive table.\"\n",
              "              style=\"display:none;\">\n",
              "        \n",
              "  <svg xmlns=\"http://www.w3.org/2000/svg\" height=\"24px\"viewBox=\"0 0 24 24\"\n",
              "       width=\"24px\">\n",
              "    <path d=\"M0 0h24v24H0V0z\" fill=\"none\"/>\n",
              "    <path d=\"M18.56 5.44l.94 2.06.94-2.06 2.06-.94-2.06-.94-.94-2.06-.94 2.06-2.06.94zm-11 1L8.5 8.5l.94-2.06 2.06-.94-2.06-.94L8.5 2.5l-.94 2.06-2.06.94zm10 10l.94 2.06.94-2.06 2.06-.94-2.06-.94-.94-2.06-.94 2.06-2.06.94z\"/><path d=\"M17.41 7.96l-1.37-1.37c-.4-.4-.92-.59-1.43-.59-.52 0-1.04.2-1.43.59L10.3 9.45l-7.72 7.72c-.78.78-.78 2.05 0 2.83L4 21.41c.39.39.9.59 1.41.59.51 0 1.02-.2 1.41-.59l7.78-7.78 2.81-2.81c.8-.78.8-2.07 0-2.86zM5.41 20L4 18.59l7.72-7.72 1.47 1.35L5.41 20z\"/>\n",
              "  </svg>\n",
              "      </button>\n",
              "      \n",
              "  <style>\n",
              "    .colab-df-container {\n",
              "      display:flex;\n",
              "      flex-wrap:wrap;\n",
              "      gap: 12px;\n",
              "    }\n",
              "\n",
              "    .colab-df-convert {\n",
              "      background-color: #E8F0FE;\n",
              "      border: none;\n",
              "      border-radius: 50%;\n",
              "      cursor: pointer;\n",
              "      display: none;\n",
              "      fill: #1967D2;\n",
              "      height: 32px;\n",
              "      padding: 0 0 0 0;\n",
              "      width: 32px;\n",
              "    }\n",
              "\n",
              "    .colab-df-convert:hover {\n",
              "      background-color: #E2EBFA;\n",
              "      box-shadow: 0px 1px 2px rgba(60, 64, 67, 0.3), 0px 1px 3px 1px rgba(60, 64, 67, 0.15);\n",
              "      fill: #174EA6;\n",
              "    }\n",
              "\n",
              "    [theme=dark] .colab-df-convert {\n",
              "      background-color: #3B4455;\n",
              "      fill: #D2E3FC;\n",
              "    }\n",
              "\n",
              "    [theme=dark] .colab-df-convert:hover {\n",
              "      background-color: #434B5C;\n",
              "      box-shadow: 0px 1px 3px 1px rgba(0, 0, 0, 0.15);\n",
              "      filter: drop-shadow(0px 1px 2px rgba(0, 0, 0, 0.3));\n",
              "      fill: #FFFFFF;\n",
              "    }\n",
              "  </style>\n",
              "\n",
              "      <script>\n",
              "        const buttonEl =\n",
              "          document.querySelector('#df-b703ef3e-11e6-4f4a-ac02-ab0d47883b3f button.colab-df-convert');\n",
              "        buttonEl.style.display =\n",
              "          google.colab.kernel.accessAllowed ? 'block' : 'none';\n",
              "\n",
              "        async function convertToInteractive(key) {\n",
              "          const element = document.querySelector('#df-b703ef3e-11e6-4f4a-ac02-ab0d47883b3f');\n",
              "          const dataTable =\n",
              "            await google.colab.kernel.invokeFunction('convertToInteractive',\n",
              "                                                     [key], {});\n",
              "          if (!dataTable) return;\n",
              "\n",
              "          const docLinkHtml = 'Like what you see? Visit the ' +\n",
              "            '<a target=\"_blank\" href=https://colab.research.google.com/notebooks/data_table.ipynb>data table notebook</a>'\n",
              "            + ' to learn more about interactive tables.';\n",
              "          element.innerHTML = '';\n",
              "          dataTable['output_type'] = 'display_data';\n",
              "          await google.colab.output.renderOutput(dataTable, element);\n",
              "          const docLink = document.createElement('div');\n",
              "          docLink.innerHTML = docLinkHtml;\n",
              "          element.appendChild(docLink);\n",
              "        }\n",
              "      </script>\n",
              "    </div>\n",
              "  </div>\n",
              "  "
            ]
          },
          "metadata": {},
          "execution_count": 64
        }
      ]
    },
    {
      "cell_type": "code",
      "source": [
        "y_df = pd.DataFrame(y_over_SMOTE, columns=['ProdTaken'])\n",
        "y_df.head()"
      ],
      "metadata": {
        "colab": {
          "base_uri": "https://localhost:8080/"
        },
        "id": "N6fxySDwi8ON",
        "outputId": "0e112d4a-f847-4792-ec27-1ccc559c6c08"
      },
      "execution_count": null,
      "outputs": [
        {
          "output_type": "execute_result",
          "data": {
            "text/plain": [
              "   ProdTaken\n",
              "0        0.0\n",
              "1        0.0\n",
              "2        0.0\n",
              "3        0.0\n",
              "4        0.0"
            ],
            "text/html": [
              "\n",
              "  <div id=\"df-422196d5-5b2c-4d35-a9c1-ac188da01abc\">\n",
              "    <div class=\"colab-df-container\">\n",
              "      <div>\n",
              "<style scoped>\n",
              "    .dataframe tbody tr th:only-of-type {\n",
              "        vertical-align: middle;\n",
              "    }\n",
              "\n",
              "    .dataframe tbody tr th {\n",
              "        vertical-align: top;\n",
              "    }\n",
              "\n",
              "    .dataframe thead th {\n",
              "        text-align: right;\n",
              "    }\n",
              "</style>\n",
              "<table border=\"1\" class=\"dataframe\">\n",
              "  <thead>\n",
              "    <tr style=\"text-align: right;\">\n",
              "      <th></th>\n",
              "      <th>ProdTaken</th>\n",
              "    </tr>\n",
              "  </thead>\n",
              "  <tbody>\n",
              "    <tr>\n",
              "      <th>0</th>\n",
              "      <td>0.0</td>\n",
              "    </tr>\n",
              "    <tr>\n",
              "      <th>1</th>\n",
              "      <td>0.0</td>\n",
              "    </tr>\n",
              "    <tr>\n",
              "      <th>2</th>\n",
              "      <td>0.0</td>\n",
              "    </tr>\n",
              "    <tr>\n",
              "      <th>3</th>\n",
              "      <td>0.0</td>\n",
              "    </tr>\n",
              "    <tr>\n",
              "      <th>4</th>\n",
              "      <td>0.0</td>\n",
              "    </tr>\n",
              "  </tbody>\n",
              "</table>\n",
              "</div>\n",
              "      <button class=\"colab-df-convert\" onclick=\"convertToInteractive('df-422196d5-5b2c-4d35-a9c1-ac188da01abc')\"\n",
              "              title=\"Convert this dataframe to an interactive table.\"\n",
              "              style=\"display:none;\">\n",
              "        \n",
              "  <svg xmlns=\"http://www.w3.org/2000/svg\" height=\"24px\"viewBox=\"0 0 24 24\"\n",
              "       width=\"24px\">\n",
              "    <path d=\"M0 0h24v24H0V0z\" fill=\"none\"/>\n",
              "    <path d=\"M18.56 5.44l.94 2.06.94-2.06 2.06-.94-2.06-.94-.94-2.06-.94 2.06-2.06.94zm-11 1L8.5 8.5l.94-2.06 2.06-.94-2.06-.94L8.5 2.5l-.94 2.06-2.06.94zm10 10l.94 2.06.94-2.06 2.06-.94-2.06-.94-.94-2.06-.94 2.06-2.06.94z\"/><path d=\"M17.41 7.96l-1.37-1.37c-.4-.4-.92-.59-1.43-.59-.52 0-1.04.2-1.43.59L10.3 9.45l-7.72 7.72c-.78.78-.78 2.05 0 2.83L4 21.41c.39.39.9.59 1.41.59.51 0 1.02-.2 1.41-.59l7.78-7.78 2.81-2.81c.8-.78.8-2.07 0-2.86zM5.41 20L4 18.59l7.72-7.72 1.47 1.35L5.41 20z\"/>\n",
              "  </svg>\n",
              "      </button>\n",
              "      \n",
              "  <style>\n",
              "    .colab-df-container {\n",
              "      display:flex;\n",
              "      flex-wrap:wrap;\n",
              "      gap: 12px;\n",
              "    }\n",
              "\n",
              "    .colab-df-convert {\n",
              "      background-color: #E8F0FE;\n",
              "      border: none;\n",
              "      border-radius: 50%;\n",
              "      cursor: pointer;\n",
              "      display: none;\n",
              "      fill: #1967D2;\n",
              "      height: 32px;\n",
              "      padding: 0 0 0 0;\n",
              "      width: 32px;\n",
              "    }\n",
              "\n",
              "    .colab-df-convert:hover {\n",
              "      background-color: #E2EBFA;\n",
              "      box-shadow: 0px 1px 2px rgba(60, 64, 67, 0.3), 0px 1px 3px 1px rgba(60, 64, 67, 0.15);\n",
              "      fill: #174EA6;\n",
              "    }\n",
              "\n",
              "    [theme=dark] .colab-df-convert {\n",
              "      background-color: #3B4455;\n",
              "      fill: #D2E3FC;\n",
              "    }\n",
              "\n",
              "    [theme=dark] .colab-df-convert:hover {\n",
              "      background-color: #434B5C;\n",
              "      box-shadow: 0px 1px 3px 1px rgba(0, 0, 0, 0.15);\n",
              "      filter: drop-shadow(0px 1px 2px rgba(0, 0, 0, 0.3));\n",
              "      fill: #FFFFFF;\n",
              "    }\n",
              "  </style>\n",
              "\n",
              "      <script>\n",
              "        const buttonEl =\n",
              "          document.querySelector('#df-422196d5-5b2c-4d35-a9c1-ac188da01abc button.colab-df-convert');\n",
              "        buttonEl.style.display =\n",
              "          google.colab.kernel.accessAllowed ? 'block' : 'none';\n",
              "\n",
              "        async function convertToInteractive(key) {\n",
              "          const element = document.querySelector('#df-422196d5-5b2c-4d35-a9c1-ac188da01abc');\n",
              "          const dataTable =\n",
              "            await google.colab.kernel.invokeFunction('convertToInteractive',\n",
              "                                                     [key], {});\n",
              "          if (!dataTable) return;\n",
              "\n",
              "          const docLinkHtml = 'Like what you see? Visit the ' +\n",
              "            '<a target=\"_blank\" href=https://colab.research.google.com/notebooks/data_table.ipynb>data table notebook</a>'\n",
              "            + ' to learn more about interactive tables.';\n",
              "          element.innerHTML = '';\n",
              "          dataTable['output_type'] = 'display_data';\n",
              "          await google.colab.output.renderOutput(dataTable, element);\n",
              "          const docLink = document.createElement('div');\n",
              "          docLink.innerHTML = docLinkHtml;\n",
              "          element.appendChild(docLink);\n",
              "        }\n",
              "      </script>\n",
              "    </div>\n",
              "  </div>\n",
              "  "
            ]
          },
          "metadata": {},
          "execution_count": 65
        }
      ]
    },
    {
      "cell_type": "code",
      "source": [
        "X_df.shape, y_df.shape"
      ],
      "metadata": {
        "colab": {
          "base_uri": "https://localhost:8080/"
        },
        "id": "eb1Qziqw2SJd",
        "outputId": "39d6fda8-f358-4f75-c4ac-a3a9ce66364b"
      },
      "execution_count": null,
      "outputs": [
        {
          "output_type": "execute_result",
          "data": {
            "text/plain": [
              "((6186, 30), (6186, 1))"
            ]
          },
          "metadata": {},
          "execution_count": 66
        }
      ]
    },
    {
      "cell_type": "markdown",
      "source": [
        "## **Feature Selection**\n",
        "\n",
        "Untuk menentukan feature terbaik yang akan digunakan saat membuat model perlu menggunakan uji ANOVA.\n"
      ],
      "metadata": {
        "id": "ErxUwaBJsS2h"
      }
    },
    {
      "cell_type": "code",
      "source": [
        "from sklearn.feature_selection import f_classif\n",
        "F_statistic, p_value = f_classif(X_df, y_df)\n",
        "anova_table = pd.DataFrame(data = {'Feature': X_df.columns, \n",
        "                                   'F-score' : F_statistic,\n",
        "                                   'p-value' : p_value.round(decimals=3)})\n",
        "anova_table['significance'] = anova_table.apply(lambda x: 'Not Significant' if x['p-value'] >= 0.05 else 'Significant', axis=1)\n",
        "anova_table = anova_table.merge(X_df[X_df.columns].describe().T.reset_index(), left_on='Feature', right_on='index').sort_values(['F-score','count'], ascending=False)\n",
        "anova_table"
      ],
      "metadata": {
        "id": "Fivqwr6Qss8a",
        "colab": {
          "base_uri": "https://localhost:8080/",
          "height": 1000
        },
        "outputId": "7d874e84-0336-44b2-b7f2-2ebc620c8f6c"
      },
      "execution_count": null,
      "outputs": [
        {
          "output_type": "stream",
          "name": "stderr",
          "text": [
            "/usr/local/lib/python3.7/dist-packages/sklearn/utils/validation.py:993: DataConversionWarning: A column-vector y was passed when a 1d array was expected. Please change the shape of y to (n_samples, ), for example using ravel().\n",
            "  y = column_or_1d(y, warn=True)\n"
          ]
        },
        {
          "output_type": "execute_result",
          "data": {
            "text/plain": [
              "                            Feature     F-score  p-value     significance  \\\n",
              "9                          Passport  727.367885    0.000      Significant   \n",
              "24            Designation:Executive  601.583565    0.000      Significant   \n",
              "23             MaritalStatus:Single  369.455128    0.000      Significant   \n",
              "18            ProductPitched:Deluxe  262.211206    0.000      Significant   \n",
              "25              Designation:Manager  262.211206    0.000      Significant   \n",
              "0                               Age  254.587966    0.000      Significant   \n",
              "13                    MonthlyIncome  196.175382    0.000      Significant   \n",
              "6                 NumberOfFollowups  179.875323    0.000      Significant   \n",
              "28   AgeStructure:Prime Working Age  168.689722    0.000      Significant   \n",
              "22            MaritalStatus:Married  150.033820    0.000      Significant   \n",
              "21      ProductPitched:Super Deluxe  142.500308    0.000      Significant   \n",
              "14                    MarketingCost  123.974095    0.000      Significant   \n",
              "7             PreferredPropertyStar  119.664894    0.000      Significant   \n",
              "2                          CityTier   77.531204    0.000      Significant   \n",
              "19              ProductPitched:King   61.190082    0.000      Significant   \n",
              "27                   Designation:VP   61.190082    0.000      Significant   \n",
              "3                   DurationOfPitch   53.068329    0.000      Significant   \n",
              "15        Occupation:Large Business   47.469364    0.000      Significant   \n",
              "10           PitchSatisfactionScore   33.169764    0.000      Significant   \n",
              "16              Occupation:Salaried   19.239240    0.000      Significant   \n",
              "4                            Gender   15.912538    0.000      Significant   \n",
              "8                     NumberOfTrips    6.073703    0.014      Significant   \n",
              "1                     TypeofContact    5.369438    0.021      Significant   \n",
              "20          ProductPitched:Standard    1.894524    0.169  Not Significant   \n",
              "26       Designation:Senior Manager    1.894524    0.169  Not Significant   \n",
              "5            NumberOfPersonVisiting    0.346507    0.556  Not Significant   \n",
              "11                           OwnCar    0.093065    0.760  Not Significant   \n",
              "12         NumberOfChildrenVisiting    0.048678    0.825  Not Significant   \n",
              "29  AgeStructure:Mature Working Age    0.005058    0.943  Not Significant   \n",
              "17        Occupation:Small Business    0.003558    0.952  Not Significant   \n",
              "\n",
              "                              index   count      mean       std       min  \\\n",
              "9                          Passport  6186.0  0.385784  0.473658  0.000000   \n",
              "24            Designation:Executive  6186.0  0.472156  0.494507  0.000000   \n",
              "23             MaritalStatus:Single  6186.0  0.392677  0.477377  0.000000   \n",
              "18            ProductPitched:Deluxe  6186.0  0.293548  0.450583  0.000000   \n",
              "25              Designation:Manager  6186.0  0.293548  0.450583  0.000000   \n",
              "0                               Age  6186.0 -0.135495  1.038282 -2.141386   \n",
              "13                    MonthlyIncome  6186.0 -0.104794  0.957282 -3.736873   \n",
              "6                 NumberOfFollowups  6186.0  0.103564  0.963689 -2.693587   \n",
              "28   AgeStructure:Prime Working Age  6186.0  0.850524  0.347890  0.000000   \n",
              "22            MaritalStatus:Married  6186.0  0.434636  0.480411  0.000000   \n",
              "21      ProductPitched:Super Deluxe  6186.0  0.049557  0.214837  0.000000   \n",
              "14                    MarketingCost  6186.0  0.084748  1.003127 -1.415815   \n",
              "7             PreferredPropertyStar  6186.0  3.652057  0.816234  3.000000   \n",
              "2                          CityTier  6186.0  1.711144  0.925678  1.000000   \n",
              "19              ProductPitched:King  6186.0  0.034747  0.181388  0.000000   \n",
              "27                   Designation:VP  6186.0  0.034747  0.181388  0.000000   \n",
              "3                   DurationOfPitch  6186.0  0.052975  0.996984 -1.286030   \n",
              "15        Occupation:Large Business  6186.0  0.105274  0.298640  0.000000   \n",
              "10           PitchSatisfactionScore  6186.0  3.124530  1.346476  1.000000   \n",
              "16              Occupation:Salaried  6186.0  0.464890  0.488253  0.000000   \n",
              "4                            Gender  6186.0  0.609524  0.473942  0.000000   \n",
              "8                     NumberOfTrips  6186.0  0.019122  1.002734 -1.221999   \n",
              "1                     TypeofContact  6186.0  0.704075  0.442358  0.000000   \n",
              "20          ProductPitched:Standard  6186.0  0.149992  0.352403  0.000000   \n",
              "26       Designation:Senior Manager  6186.0  0.149992  0.352403  0.000000   \n",
              "5            NumberOfPersonVisiting  6186.0  0.002323  0.956748 -2.652776   \n",
              "11                           OwnCar  6186.0  0.621910  0.463930  0.000000   \n",
              "12         NumberOfChildrenVisiting  6186.0 -0.002094  0.952780 -1.379883   \n",
              "29  AgeStructure:Mature Working Age  6186.0  0.055165  0.223993  0.000000   \n",
              "17        Occupation:Small Business  6186.0  0.428343  0.483991  0.000000   \n",
              "\n",
              "         25%       50%       75%        max  \n",
              "9   0.000000  0.000000  1.000000   1.000000  \n",
              "24  0.000000  0.000000  1.000000   1.000000  \n",
              "23  0.000000  0.000000  1.000000   1.000000  \n",
              "18  0.000000  0.000000  1.000000   1.000000  \n",
              "25  0.000000  0.000000  1.000000   1.000000  \n",
              "0  -0.853512 -0.280484  0.485770   2.565601  \n",
              "13 -0.716083 -0.325992  0.272830   3.005759  \n",
              "6  -0.703231  0.291947  0.291947   2.282302  \n",
              "28  1.000000  1.000000  1.000000   1.000000  \n",
              "22  0.000000  0.000000  1.000000   1.000000  \n",
              "21  0.000000  0.000000  0.000000   1.000000  \n",
              "14 -0.615475 -0.198330  0.569096  12.438348  \n",
              "7   3.000000  3.000000  4.000000   5.000000  \n",
              "2   1.000000  1.000000  3.000000   3.000000  \n",
              "19  0.000000  0.000000  0.000000   1.000000  \n",
              "27  0.000000  0.000000  0.000000   1.000000  \n",
              "3  -0.790686 -0.208800  0.656317   2.552889  \n",
              "15  0.000000  0.000000  0.000000   1.000000  \n",
              "10  2.000000  3.000000  4.000000   5.000000  \n",
              "16  0.000000  0.000000  1.000000   1.000000  \n",
              "4   0.000000  1.000000  1.000000   1.000000  \n",
              "8  -0.673531 -0.125064  0.423404  10.295819  \n",
              "1   0.000000  1.000000  1.000000   1.000000  \n",
              "20  0.000000  0.000000  0.000000   1.000000  \n",
              "26  0.000000  0.000000  0.000000   1.000000  \n",
              "5  -1.260146  0.119291  0.119291   2.891359  \n",
              "11  0.000000  1.000000  1.000000   1.000000  \n",
              "12 -0.274804 -0.212054  0.955775   2.123604  \n",
              "29  0.000000  0.000000  0.000000   1.000000  \n",
              "17  0.000000  0.000000  1.000000   1.000000  "
            ],
            "text/html": [
              "\n",
              "  <div id=\"df-302c0c0f-ccd5-40b8-af62-5150c2799953\">\n",
              "    <div class=\"colab-df-container\">\n",
              "      <div>\n",
              "<style scoped>\n",
              "    .dataframe tbody tr th:only-of-type {\n",
              "        vertical-align: middle;\n",
              "    }\n",
              "\n",
              "    .dataframe tbody tr th {\n",
              "        vertical-align: top;\n",
              "    }\n",
              "\n",
              "    .dataframe thead th {\n",
              "        text-align: right;\n",
              "    }\n",
              "</style>\n",
              "<table border=\"1\" class=\"dataframe\">\n",
              "  <thead>\n",
              "    <tr style=\"text-align: right;\">\n",
              "      <th></th>\n",
              "      <th>Feature</th>\n",
              "      <th>F-score</th>\n",
              "      <th>p-value</th>\n",
              "      <th>significance</th>\n",
              "      <th>index</th>\n",
              "      <th>count</th>\n",
              "      <th>mean</th>\n",
              "      <th>std</th>\n",
              "      <th>min</th>\n",
              "      <th>25%</th>\n",
              "      <th>50%</th>\n",
              "      <th>75%</th>\n",
              "      <th>max</th>\n",
              "    </tr>\n",
              "  </thead>\n",
              "  <tbody>\n",
              "    <tr>\n",
              "      <th>9</th>\n",
              "      <td>Passport</td>\n",
              "      <td>727.367885</td>\n",
              "      <td>0.000</td>\n",
              "      <td>Significant</td>\n",
              "      <td>Passport</td>\n",
              "      <td>6186.0</td>\n",
              "      <td>0.385784</td>\n",
              "      <td>0.473658</td>\n",
              "      <td>0.000000</td>\n",
              "      <td>0.000000</td>\n",
              "      <td>0.000000</td>\n",
              "      <td>1.000000</td>\n",
              "      <td>1.000000</td>\n",
              "    </tr>\n",
              "    <tr>\n",
              "      <th>24</th>\n",
              "      <td>Designation:Executive</td>\n",
              "      <td>601.583565</td>\n",
              "      <td>0.000</td>\n",
              "      <td>Significant</td>\n",
              "      <td>Designation:Executive</td>\n",
              "      <td>6186.0</td>\n",
              "      <td>0.472156</td>\n",
              "      <td>0.494507</td>\n",
              "      <td>0.000000</td>\n",
              "      <td>0.000000</td>\n",
              "      <td>0.000000</td>\n",
              "      <td>1.000000</td>\n",
              "      <td>1.000000</td>\n",
              "    </tr>\n",
              "    <tr>\n",
              "      <th>23</th>\n",
              "      <td>MaritalStatus:Single</td>\n",
              "      <td>369.455128</td>\n",
              "      <td>0.000</td>\n",
              "      <td>Significant</td>\n",
              "      <td>MaritalStatus:Single</td>\n",
              "      <td>6186.0</td>\n",
              "      <td>0.392677</td>\n",
              "      <td>0.477377</td>\n",
              "      <td>0.000000</td>\n",
              "      <td>0.000000</td>\n",
              "      <td>0.000000</td>\n",
              "      <td>1.000000</td>\n",
              "      <td>1.000000</td>\n",
              "    </tr>\n",
              "    <tr>\n",
              "      <th>18</th>\n",
              "      <td>ProductPitched:Deluxe</td>\n",
              "      <td>262.211206</td>\n",
              "      <td>0.000</td>\n",
              "      <td>Significant</td>\n",
              "      <td>ProductPitched:Deluxe</td>\n",
              "      <td>6186.0</td>\n",
              "      <td>0.293548</td>\n",
              "      <td>0.450583</td>\n",
              "      <td>0.000000</td>\n",
              "      <td>0.000000</td>\n",
              "      <td>0.000000</td>\n",
              "      <td>1.000000</td>\n",
              "      <td>1.000000</td>\n",
              "    </tr>\n",
              "    <tr>\n",
              "      <th>25</th>\n",
              "      <td>Designation:Manager</td>\n",
              "      <td>262.211206</td>\n",
              "      <td>0.000</td>\n",
              "      <td>Significant</td>\n",
              "      <td>Designation:Manager</td>\n",
              "      <td>6186.0</td>\n",
              "      <td>0.293548</td>\n",
              "      <td>0.450583</td>\n",
              "      <td>0.000000</td>\n",
              "      <td>0.000000</td>\n",
              "      <td>0.000000</td>\n",
              "      <td>1.000000</td>\n",
              "      <td>1.000000</td>\n",
              "    </tr>\n",
              "    <tr>\n",
              "      <th>0</th>\n",
              "      <td>Age</td>\n",
              "      <td>254.587966</td>\n",
              "      <td>0.000</td>\n",
              "      <td>Significant</td>\n",
              "      <td>Age</td>\n",
              "      <td>6186.0</td>\n",
              "      <td>-0.135495</td>\n",
              "      <td>1.038282</td>\n",
              "      <td>-2.141386</td>\n",
              "      <td>-0.853512</td>\n",
              "      <td>-0.280484</td>\n",
              "      <td>0.485770</td>\n",
              "      <td>2.565601</td>\n",
              "    </tr>\n",
              "    <tr>\n",
              "      <th>13</th>\n",
              "      <td>MonthlyIncome</td>\n",
              "      <td>196.175382</td>\n",
              "      <td>0.000</td>\n",
              "      <td>Significant</td>\n",
              "      <td>MonthlyIncome</td>\n",
              "      <td>6186.0</td>\n",
              "      <td>-0.104794</td>\n",
              "      <td>0.957282</td>\n",
              "      <td>-3.736873</td>\n",
              "      <td>-0.716083</td>\n",
              "      <td>-0.325992</td>\n",
              "      <td>0.272830</td>\n",
              "      <td>3.005759</td>\n",
              "    </tr>\n",
              "    <tr>\n",
              "      <th>6</th>\n",
              "      <td>NumberOfFollowups</td>\n",
              "      <td>179.875323</td>\n",
              "      <td>0.000</td>\n",
              "      <td>Significant</td>\n",
              "      <td>NumberOfFollowups</td>\n",
              "      <td>6186.0</td>\n",
              "      <td>0.103564</td>\n",
              "      <td>0.963689</td>\n",
              "      <td>-2.693587</td>\n",
              "      <td>-0.703231</td>\n",
              "      <td>0.291947</td>\n",
              "      <td>0.291947</td>\n",
              "      <td>2.282302</td>\n",
              "    </tr>\n",
              "    <tr>\n",
              "      <th>28</th>\n",
              "      <td>AgeStructure:Prime Working Age</td>\n",
              "      <td>168.689722</td>\n",
              "      <td>0.000</td>\n",
              "      <td>Significant</td>\n",
              "      <td>AgeStructure:Prime Working Age</td>\n",
              "      <td>6186.0</td>\n",
              "      <td>0.850524</td>\n",
              "      <td>0.347890</td>\n",
              "      <td>0.000000</td>\n",
              "      <td>1.000000</td>\n",
              "      <td>1.000000</td>\n",
              "      <td>1.000000</td>\n",
              "      <td>1.000000</td>\n",
              "    </tr>\n",
              "    <tr>\n",
              "      <th>22</th>\n",
              "      <td>MaritalStatus:Married</td>\n",
              "      <td>150.033820</td>\n",
              "      <td>0.000</td>\n",
              "      <td>Significant</td>\n",
              "      <td>MaritalStatus:Married</td>\n",
              "      <td>6186.0</td>\n",
              "      <td>0.434636</td>\n",
              "      <td>0.480411</td>\n",
              "      <td>0.000000</td>\n",
              "      <td>0.000000</td>\n",
              "      <td>0.000000</td>\n",
              "      <td>1.000000</td>\n",
              "      <td>1.000000</td>\n",
              "    </tr>\n",
              "    <tr>\n",
              "      <th>21</th>\n",
              "      <td>ProductPitched:Super Deluxe</td>\n",
              "      <td>142.500308</td>\n",
              "      <td>0.000</td>\n",
              "      <td>Significant</td>\n",
              "      <td>ProductPitched:Super Deluxe</td>\n",
              "      <td>6186.0</td>\n",
              "      <td>0.049557</td>\n",
              "      <td>0.214837</td>\n",
              "      <td>0.000000</td>\n",
              "      <td>0.000000</td>\n",
              "      <td>0.000000</td>\n",
              "      <td>0.000000</td>\n",
              "      <td>1.000000</td>\n",
              "    </tr>\n",
              "    <tr>\n",
              "      <th>14</th>\n",
              "      <td>MarketingCost</td>\n",
              "      <td>123.974095</td>\n",
              "      <td>0.000</td>\n",
              "      <td>Significant</td>\n",
              "      <td>MarketingCost</td>\n",
              "      <td>6186.0</td>\n",
              "      <td>0.084748</td>\n",
              "      <td>1.003127</td>\n",
              "      <td>-1.415815</td>\n",
              "      <td>-0.615475</td>\n",
              "      <td>-0.198330</td>\n",
              "      <td>0.569096</td>\n",
              "      <td>12.438348</td>\n",
              "    </tr>\n",
              "    <tr>\n",
              "      <th>7</th>\n",
              "      <td>PreferredPropertyStar</td>\n",
              "      <td>119.664894</td>\n",
              "      <td>0.000</td>\n",
              "      <td>Significant</td>\n",
              "      <td>PreferredPropertyStar</td>\n",
              "      <td>6186.0</td>\n",
              "      <td>3.652057</td>\n",
              "      <td>0.816234</td>\n",
              "      <td>3.000000</td>\n",
              "      <td>3.000000</td>\n",
              "      <td>3.000000</td>\n",
              "      <td>4.000000</td>\n",
              "      <td>5.000000</td>\n",
              "    </tr>\n",
              "    <tr>\n",
              "      <th>2</th>\n",
              "      <td>CityTier</td>\n",
              "      <td>77.531204</td>\n",
              "      <td>0.000</td>\n",
              "      <td>Significant</td>\n",
              "      <td>CityTier</td>\n",
              "      <td>6186.0</td>\n",
              "      <td>1.711144</td>\n",
              "      <td>0.925678</td>\n",
              "      <td>1.000000</td>\n",
              "      <td>1.000000</td>\n",
              "      <td>1.000000</td>\n",
              "      <td>3.000000</td>\n",
              "      <td>3.000000</td>\n",
              "    </tr>\n",
              "    <tr>\n",
              "      <th>19</th>\n",
              "      <td>ProductPitched:King</td>\n",
              "      <td>61.190082</td>\n",
              "      <td>0.000</td>\n",
              "      <td>Significant</td>\n",
              "      <td>ProductPitched:King</td>\n",
              "      <td>6186.0</td>\n",
              "      <td>0.034747</td>\n",
              "      <td>0.181388</td>\n",
              "      <td>0.000000</td>\n",
              "      <td>0.000000</td>\n",
              "      <td>0.000000</td>\n",
              "      <td>0.000000</td>\n",
              "      <td>1.000000</td>\n",
              "    </tr>\n",
              "    <tr>\n",
              "      <th>27</th>\n",
              "      <td>Designation:VP</td>\n",
              "      <td>61.190082</td>\n",
              "      <td>0.000</td>\n",
              "      <td>Significant</td>\n",
              "      <td>Designation:VP</td>\n",
              "      <td>6186.0</td>\n",
              "      <td>0.034747</td>\n",
              "      <td>0.181388</td>\n",
              "      <td>0.000000</td>\n",
              "      <td>0.000000</td>\n",
              "      <td>0.000000</td>\n",
              "      <td>0.000000</td>\n",
              "      <td>1.000000</td>\n",
              "    </tr>\n",
              "    <tr>\n",
              "      <th>3</th>\n",
              "      <td>DurationOfPitch</td>\n",
              "      <td>53.068329</td>\n",
              "      <td>0.000</td>\n",
              "      <td>Significant</td>\n",
              "      <td>DurationOfPitch</td>\n",
              "      <td>6186.0</td>\n",
              "      <td>0.052975</td>\n",
              "      <td>0.996984</td>\n",
              "      <td>-1.286030</td>\n",
              "      <td>-0.790686</td>\n",
              "      <td>-0.208800</td>\n",
              "      <td>0.656317</td>\n",
              "      <td>2.552889</td>\n",
              "    </tr>\n",
              "    <tr>\n",
              "      <th>15</th>\n",
              "      <td>Occupation:Large Business</td>\n",
              "      <td>47.469364</td>\n",
              "      <td>0.000</td>\n",
              "      <td>Significant</td>\n",
              "      <td>Occupation:Large Business</td>\n",
              "      <td>6186.0</td>\n",
              "      <td>0.105274</td>\n",
              "      <td>0.298640</td>\n",
              "      <td>0.000000</td>\n",
              "      <td>0.000000</td>\n",
              "      <td>0.000000</td>\n",
              "      <td>0.000000</td>\n",
              "      <td>1.000000</td>\n",
              "    </tr>\n",
              "    <tr>\n",
              "      <th>10</th>\n",
              "      <td>PitchSatisfactionScore</td>\n",
              "      <td>33.169764</td>\n",
              "      <td>0.000</td>\n",
              "      <td>Significant</td>\n",
              "      <td>PitchSatisfactionScore</td>\n",
              "      <td>6186.0</td>\n",
              "      <td>3.124530</td>\n",
              "      <td>1.346476</td>\n",
              "      <td>1.000000</td>\n",
              "      <td>2.000000</td>\n",
              "      <td>3.000000</td>\n",
              "      <td>4.000000</td>\n",
              "      <td>5.000000</td>\n",
              "    </tr>\n",
              "    <tr>\n",
              "      <th>16</th>\n",
              "      <td>Occupation:Salaried</td>\n",
              "      <td>19.239240</td>\n",
              "      <td>0.000</td>\n",
              "      <td>Significant</td>\n",
              "      <td>Occupation:Salaried</td>\n",
              "      <td>6186.0</td>\n",
              "      <td>0.464890</td>\n",
              "      <td>0.488253</td>\n",
              "      <td>0.000000</td>\n",
              "      <td>0.000000</td>\n",
              "      <td>0.000000</td>\n",
              "      <td>1.000000</td>\n",
              "      <td>1.000000</td>\n",
              "    </tr>\n",
              "    <tr>\n",
              "      <th>4</th>\n",
              "      <td>Gender</td>\n",
              "      <td>15.912538</td>\n",
              "      <td>0.000</td>\n",
              "      <td>Significant</td>\n",
              "      <td>Gender</td>\n",
              "      <td>6186.0</td>\n",
              "      <td>0.609524</td>\n",
              "      <td>0.473942</td>\n",
              "      <td>0.000000</td>\n",
              "      <td>0.000000</td>\n",
              "      <td>1.000000</td>\n",
              "      <td>1.000000</td>\n",
              "      <td>1.000000</td>\n",
              "    </tr>\n",
              "    <tr>\n",
              "      <th>8</th>\n",
              "      <td>NumberOfTrips</td>\n",
              "      <td>6.073703</td>\n",
              "      <td>0.014</td>\n",
              "      <td>Significant</td>\n",
              "      <td>NumberOfTrips</td>\n",
              "      <td>6186.0</td>\n",
              "      <td>0.019122</td>\n",
              "      <td>1.002734</td>\n",
              "      <td>-1.221999</td>\n",
              "      <td>-0.673531</td>\n",
              "      <td>-0.125064</td>\n",
              "      <td>0.423404</td>\n",
              "      <td>10.295819</td>\n",
              "    </tr>\n",
              "    <tr>\n",
              "      <th>1</th>\n",
              "      <td>TypeofContact</td>\n",
              "      <td>5.369438</td>\n",
              "      <td>0.021</td>\n",
              "      <td>Significant</td>\n",
              "      <td>TypeofContact</td>\n",
              "      <td>6186.0</td>\n",
              "      <td>0.704075</td>\n",
              "      <td>0.442358</td>\n",
              "      <td>0.000000</td>\n",
              "      <td>0.000000</td>\n",
              "      <td>1.000000</td>\n",
              "      <td>1.000000</td>\n",
              "      <td>1.000000</td>\n",
              "    </tr>\n",
              "    <tr>\n",
              "      <th>20</th>\n",
              "      <td>ProductPitched:Standard</td>\n",
              "      <td>1.894524</td>\n",
              "      <td>0.169</td>\n",
              "      <td>Not Significant</td>\n",
              "      <td>ProductPitched:Standard</td>\n",
              "      <td>6186.0</td>\n",
              "      <td>0.149992</td>\n",
              "      <td>0.352403</td>\n",
              "      <td>0.000000</td>\n",
              "      <td>0.000000</td>\n",
              "      <td>0.000000</td>\n",
              "      <td>0.000000</td>\n",
              "      <td>1.000000</td>\n",
              "    </tr>\n",
              "    <tr>\n",
              "      <th>26</th>\n",
              "      <td>Designation:Senior Manager</td>\n",
              "      <td>1.894524</td>\n",
              "      <td>0.169</td>\n",
              "      <td>Not Significant</td>\n",
              "      <td>Designation:Senior Manager</td>\n",
              "      <td>6186.0</td>\n",
              "      <td>0.149992</td>\n",
              "      <td>0.352403</td>\n",
              "      <td>0.000000</td>\n",
              "      <td>0.000000</td>\n",
              "      <td>0.000000</td>\n",
              "      <td>0.000000</td>\n",
              "      <td>1.000000</td>\n",
              "    </tr>\n",
              "    <tr>\n",
              "      <th>5</th>\n",
              "      <td>NumberOfPersonVisiting</td>\n",
              "      <td>0.346507</td>\n",
              "      <td>0.556</td>\n",
              "      <td>Not Significant</td>\n",
              "      <td>NumberOfPersonVisiting</td>\n",
              "      <td>6186.0</td>\n",
              "      <td>0.002323</td>\n",
              "      <td>0.956748</td>\n",
              "      <td>-2.652776</td>\n",
              "      <td>-1.260146</td>\n",
              "      <td>0.119291</td>\n",
              "      <td>0.119291</td>\n",
              "      <td>2.891359</td>\n",
              "    </tr>\n",
              "    <tr>\n",
              "      <th>11</th>\n",
              "      <td>OwnCar</td>\n",
              "      <td>0.093065</td>\n",
              "      <td>0.760</td>\n",
              "      <td>Not Significant</td>\n",
              "      <td>OwnCar</td>\n",
              "      <td>6186.0</td>\n",
              "      <td>0.621910</td>\n",
              "      <td>0.463930</td>\n",
              "      <td>0.000000</td>\n",
              "      <td>0.000000</td>\n",
              "      <td>1.000000</td>\n",
              "      <td>1.000000</td>\n",
              "      <td>1.000000</td>\n",
              "    </tr>\n",
              "    <tr>\n",
              "      <th>12</th>\n",
              "      <td>NumberOfChildrenVisiting</td>\n",
              "      <td>0.048678</td>\n",
              "      <td>0.825</td>\n",
              "      <td>Not Significant</td>\n",
              "      <td>NumberOfChildrenVisiting</td>\n",
              "      <td>6186.0</td>\n",
              "      <td>-0.002094</td>\n",
              "      <td>0.952780</td>\n",
              "      <td>-1.379883</td>\n",
              "      <td>-0.274804</td>\n",
              "      <td>-0.212054</td>\n",
              "      <td>0.955775</td>\n",
              "      <td>2.123604</td>\n",
              "    </tr>\n",
              "    <tr>\n",
              "      <th>29</th>\n",
              "      <td>AgeStructure:Mature Working Age</td>\n",
              "      <td>0.005058</td>\n",
              "      <td>0.943</td>\n",
              "      <td>Not Significant</td>\n",
              "      <td>AgeStructure:Mature Working Age</td>\n",
              "      <td>6186.0</td>\n",
              "      <td>0.055165</td>\n",
              "      <td>0.223993</td>\n",
              "      <td>0.000000</td>\n",
              "      <td>0.000000</td>\n",
              "      <td>0.000000</td>\n",
              "      <td>0.000000</td>\n",
              "      <td>1.000000</td>\n",
              "    </tr>\n",
              "    <tr>\n",
              "      <th>17</th>\n",
              "      <td>Occupation:Small Business</td>\n",
              "      <td>0.003558</td>\n",
              "      <td>0.952</td>\n",
              "      <td>Not Significant</td>\n",
              "      <td>Occupation:Small Business</td>\n",
              "      <td>6186.0</td>\n",
              "      <td>0.428343</td>\n",
              "      <td>0.483991</td>\n",
              "      <td>0.000000</td>\n",
              "      <td>0.000000</td>\n",
              "      <td>0.000000</td>\n",
              "      <td>1.000000</td>\n",
              "      <td>1.000000</td>\n",
              "    </tr>\n",
              "  </tbody>\n",
              "</table>\n",
              "</div>\n",
              "      <button class=\"colab-df-convert\" onclick=\"convertToInteractive('df-302c0c0f-ccd5-40b8-af62-5150c2799953')\"\n",
              "              title=\"Convert this dataframe to an interactive table.\"\n",
              "              style=\"display:none;\">\n",
              "        \n",
              "  <svg xmlns=\"http://www.w3.org/2000/svg\" height=\"24px\"viewBox=\"0 0 24 24\"\n",
              "       width=\"24px\">\n",
              "    <path d=\"M0 0h24v24H0V0z\" fill=\"none\"/>\n",
              "    <path d=\"M18.56 5.44l.94 2.06.94-2.06 2.06-.94-2.06-.94-.94-2.06-.94 2.06-2.06.94zm-11 1L8.5 8.5l.94-2.06 2.06-.94-2.06-.94L8.5 2.5l-.94 2.06-2.06.94zm10 10l.94 2.06.94-2.06 2.06-.94-2.06-.94-.94-2.06-.94 2.06-2.06.94z\"/><path d=\"M17.41 7.96l-1.37-1.37c-.4-.4-.92-.59-1.43-.59-.52 0-1.04.2-1.43.59L10.3 9.45l-7.72 7.72c-.78.78-.78 2.05 0 2.83L4 21.41c.39.39.9.59 1.41.59.51 0 1.02-.2 1.41-.59l7.78-7.78 2.81-2.81c.8-.78.8-2.07 0-2.86zM5.41 20L4 18.59l7.72-7.72 1.47 1.35L5.41 20z\"/>\n",
              "  </svg>\n",
              "      </button>\n",
              "      \n",
              "  <style>\n",
              "    .colab-df-container {\n",
              "      display:flex;\n",
              "      flex-wrap:wrap;\n",
              "      gap: 12px;\n",
              "    }\n",
              "\n",
              "    .colab-df-convert {\n",
              "      background-color: #E8F0FE;\n",
              "      border: none;\n",
              "      border-radius: 50%;\n",
              "      cursor: pointer;\n",
              "      display: none;\n",
              "      fill: #1967D2;\n",
              "      height: 32px;\n",
              "      padding: 0 0 0 0;\n",
              "      width: 32px;\n",
              "    }\n",
              "\n",
              "    .colab-df-convert:hover {\n",
              "      background-color: #E2EBFA;\n",
              "      box-shadow: 0px 1px 2px rgba(60, 64, 67, 0.3), 0px 1px 3px 1px rgba(60, 64, 67, 0.15);\n",
              "      fill: #174EA6;\n",
              "    }\n",
              "\n",
              "    [theme=dark] .colab-df-convert {\n",
              "      background-color: #3B4455;\n",
              "      fill: #D2E3FC;\n",
              "    }\n",
              "\n",
              "    [theme=dark] .colab-df-convert:hover {\n",
              "      background-color: #434B5C;\n",
              "      box-shadow: 0px 1px 3px 1px rgba(0, 0, 0, 0.15);\n",
              "      filter: drop-shadow(0px 1px 2px rgba(0, 0, 0, 0.3));\n",
              "      fill: #FFFFFF;\n",
              "    }\n",
              "  </style>\n",
              "\n",
              "      <script>\n",
              "        const buttonEl =\n",
              "          document.querySelector('#df-302c0c0f-ccd5-40b8-af62-5150c2799953 button.colab-df-convert');\n",
              "        buttonEl.style.display =\n",
              "          google.colab.kernel.accessAllowed ? 'block' : 'none';\n",
              "\n",
              "        async function convertToInteractive(key) {\n",
              "          const element = document.querySelector('#df-302c0c0f-ccd5-40b8-af62-5150c2799953');\n",
              "          const dataTable =\n",
              "            await google.colab.kernel.invokeFunction('convertToInteractive',\n",
              "                                                     [key], {});\n",
              "          if (!dataTable) return;\n",
              "\n",
              "          const docLinkHtml = 'Like what you see? Visit the ' +\n",
              "            '<a target=\"_blank\" href=https://colab.research.google.com/notebooks/data_table.ipynb>data table notebook</a>'\n",
              "            + ' to learn more about interactive tables.';\n",
              "          element.innerHTML = '';\n",
              "          dataTable['output_type'] = 'display_data';\n",
              "          await google.colab.output.renderOutput(dataTable, element);\n",
              "          const docLink = document.createElement('div');\n",
              "          docLink.innerHTML = docLinkHtml;\n",
              "          element.appendChild(docLink);\n",
              "        }\n",
              "      </script>\n",
              "    </div>\n",
              "  </div>\n",
              "  "
            ]
          },
          "metadata": {},
          "execution_count": 67
        }
      ]
    },
    {
      "cell_type": "code",
      "source": [
        "significant_features = anova_table[anova_table['significance']=='Significant']['Feature'].tolist()\n",
        "significant_features"
      ],
      "metadata": {
        "colab": {
          "base_uri": "https://localhost:8080/"
        },
        "id": "kdwvrM0wkfCN",
        "outputId": "9f34caa5-e060-4e7a-ff43-1ee836b205d7"
      },
      "execution_count": null,
      "outputs": [
        {
          "output_type": "execute_result",
          "data": {
            "text/plain": [
              "['Passport',\n",
              " 'Designation:Executive',\n",
              " 'MaritalStatus:Single',\n",
              " 'ProductPitched:Deluxe',\n",
              " 'Designation:Manager',\n",
              " 'Age',\n",
              " 'MonthlyIncome',\n",
              " 'NumberOfFollowups',\n",
              " 'AgeStructure:Prime Working Age',\n",
              " 'MaritalStatus:Married',\n",
              " 'ProductPitched:Super Deluxe',\n",
              " 'MarketingCost',\n",
              " 'PreferredPropertyStar',\n",
              " 'CityTier',\n",
              " 'ProductPitched:King',\n",
              " 'Designation:VP',\n",
              " 'DurationOfPitch',\n",
              " 'Occupation:Large Business',\n",
              " 'PitchSatisfactionScore',\n",
              " 'Occupation:Salaried',\n",
              " 'Gender',\n",
              " 'NumberOfTrips',\n",
              " 'TypeofContact']"
            ]
          },
          "metadata": {},
          "execution_count": 68
        }
      ]
    },
    {
      "cell_type": "code",
      "source": [
        "X_df.drop(columns=([col for col in X_df.columns.tolist() if col not in significant_features]), axis=1, inplace=True)\n",
        "train = pd.concat([y_df, X_df], axis=1)\n",
        "\n",
        "train.shape"
      ],
      "metadata": {
        "colab": {
          "base_uri": "https://localhost:8080/"
        },
        "id": "QxglV3fRLADu",
        "outputId": "cd0eec26-470e-4a97-b846-185c01caaa48"
      },
      "execution_count": null,
      "outputs": [
        {
          "output_type": "execute_result",
          "data": {
            "text/plain": [
              "(6186, 24)"
            ]
          },
          "metadata": {},
          "execution_count": 69
        }
      ]
    },
    {
      "cell_type": "code",
      "source": [
        "y = test['ProdTaken'].values\n",
        "column_names = test.drop(['ProdTaken'], axis=1).columns.tolist()\n",
        "X = test.drop(['ProdTaken'], axis=1).values\n",
        "\n",
        "# Oversampling SMOTE\n",
        "from imblearn.over_sampling import SMOTE\n",
        "smote = SMOTE(sampling_strategy=1,random_state = 42)\n",
        "X_over_SMOTE, y_over_SMOTE = smote.fit_resample(X,  y)\n",
        "\n",
        "X_df = pd.DataFrame(X_over_SMOTE, columns = column_names)\n",
        "y_df = pd.DataFrame(y_over_SMOTE, columns=['ProdTaken'])"
      ],
      "metadata": {
        "id": "dwgXv3CjJMpE"
      },
      "execution_count": null,
      "outputs": []
    },
    {
      "cell_type": "code",
      "source": [
        "X_df.drop(columns=([col for col in X_df.columns.tolist() if col not in significant_features]), axis=1, inplace=True)\n",
        "test = pd.concat([y_df, X_df], axis=1)\n",
        "test = test[train.columns.tolist()]\n",
        "test.shape"
      ],
      "metadata": {
        "colab": {
          "base_uri": "https://localhost:8080/"
        },
        "id": "eRpfBJlZJUPT",
        "outputId": "309d25d8-b5c7-4221-e931-d145b744c7d2"
      },
      "execution_count": null,
      "outputs": [
        {
          "output_type": "execute_result",
          "data": {
            "text/plain": [
              "(1584, 24)"
            ]
          },
          "metadata": {},
          "execution_count": 71
        }
      ]
    },
    {
      "cell_type": "code",
      "source": [
        "# cek kesamaan kolom di train dan test\n",
        "train.columns.tolist() == test.columns.tolist()"
      ],
      "metadata": {
        "colab": {
          "base_uri": "https://localhost:8080/"
        },
        "id": "l_Su3qjfKuku",
        "outputId": "04bf7f1c-f4f1-4887-df38-0f2a201b1f96"
      },
      "execution_count": null,
      "outputs": [
        {
          "output_type": "execute_result",
          "data": {
            "text/plain": [
              "True"
            ]
          },
          "metadata": {},
          "execution_count": 75
        }
      ]
    },
    {
      "cell_type": "code",
      "source": [
        "train.to_csv('preprocessed_train.csv', index=False)\n",
        "test.to_csv('preprocessed_test.csv', index=False)"
      ],
      "metadata": {
        "id": "03Qlb1LrKw4X"
      },
      "execution_count": null,
      "outputs": []
    },
    {
      "cell_type": "markdown",
      "source": [
        "## **Feature tambahan yang dapat membantu performance model**\n",
        "\n",
        "1. `SocioEconomicStatus`, ukuran total gabungan ekonomi dan sosiologis dari pengalaman kerja dan akses ekonomi seorang customer ke sumber daya dan posisi sosial.\n",
        "2. `GenerationalSegment`, mengelompokkan customer berdasarkan kategori generasi yang mencakup Gen Z, Milenial, Generasi X, dan Baby Boomers. Generasi-generasi ini diyakini memiliki preferensi, perilaku, ciri kepribadian, dan keyakinan tertentu.\n",
        "3. `SalesPitching`, Kode sales marketer yang melakukan pitching ke customer\n",
        "4. `PreviousProdTaken`, Jumlah product package yang sebelumnya pernah diambil\n",
        "5. `GeographicSegment`, membagi customer berdasarkan lokasinya. Lokasi pelanggan dapat membantu untuk lebih memahami kebutuhan mereka dan karakteristik daerah tempat mereka tinggal, seperti iklim, kepadatan penduduk.\n",
        "6. `PackagePrice` yang merupakan pengembangan dari feature `ProductPitched`\n",
        "  *   Basic : SAR 199.4\n",
        "  *   Standard : SAR 219.4\n",
        "  *   Deluxe : SAR 284.4\n",
        "  *   Super Deluxe : SAR 359\n",
        "  *   King : SAR 683.2\n",
        "  \n",
        "  Asumsi harga diperoleh dari [referensi](https://id.hotels.com/en/ho396179/the-ritz-carlton-riyadh-riyadh-saudi-arabia/?chkin=2022-09-01&chkout=2022-09-03&x_pwa=1&rfrr=HSR&pwa_ts=1659394608325&referrerUrl=aHR0cHM6Ly9pZC5ob3RlbHMuY29tL0hvdGVsLVNlYXJjaA%3D%3D&useRewards=false&rm1=a2&regionId=3051&destination=Riyadh%2C+Riyadh%2C+Saudi+Arabia&destType=MARKET&selected=4718588&sort=RECOMMENDED&top_dp=3945675&top_cur=IDR&semdtl=&userIntent=&selectedRoomType=200127700&selectedRatePlan=381495702&expediaPropertyId=4718588)"
      ],
      "metadata": {
        "id": "RKOmZmhHsutN"
      }
    }
  ]
}