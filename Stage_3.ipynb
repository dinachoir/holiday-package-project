{
 "cells": [
  {
   "cell_type": "markdown",
   "id": "edeb5cd3",
   "metadata": {},
   "source": [
    "Project Objective\n",
    "\n",
    " a statement that describes the “what” of your project. The tangible and measurable “what”. The “what” that's achievable, realistic, and can be completed within the time allowed. These statements ladder up to the goals of the project, providing stepping stones to project success."
   ]
  },
  {
   "cell_type": "code",
   "execution_count": 1,
   "id": "e1f5cab9",
   "metadata": {},
   "outputs": [],
   "source": [
    "import pandas as pd"
   ]
  }
 ],
 "metadata": {
  "kernelspec": {
   "display_name": "Python 3 (ipykernel)",
   "language": "python",
   "name": "python3"
  },
  "language_info": {
   "codemirror_mode": {
    "name": "ipython",
    "version": 3
   },
   "file_extension": ".py",
   "mimetype": "text/x-python",
   "name": "python",
   "nbconvert_exporter": "python",
   "pygments_lexer": "ipython3",
   "version": "3.9.7"
  }
 },
 "nbformat": 4,
 "nbformat_minor": 5
}
